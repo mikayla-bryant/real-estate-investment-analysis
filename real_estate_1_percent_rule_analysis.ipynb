{
 "cells": [
  {
   "cell_type": "markdown",
   "id": "472b29b6",
   "metadata": {},
   "source": [
    "# Real Estate Investment Analysis\n",
    "\n",
    "What makes a zip code a hotspot for real estate investments? In the ever-evolving world of real estate, understanding market dynamics is essential for making informed investment decisions. This project explores the U.S. housing market through an extensive dataset, aiming to identify the key factors that influence rental investment potential. By analyzing metrics such as property prices, rental rates, population trends, and economic indicators, we seek to answer pressing questions:\n",
    "\n",
    "- Where are the best opportunities for profitable rental investments?\n",
    "- How do factors like income levels, educational attainment, and employment rates impact housing affordability?\n",
    "- What market characteristics can help investors pinpoint areas with strong growth potential?\n",
    "\n",
    "The dataset combines information from various sources, including Zillow property and rent prices, U.S. Census Bureau population data, and American Community Survey economic metrics. By integrating and analyzing this data, the project provides actionable insights to guide investment strategies in the real estate market.\n",
    "\n",
    "Through this analysis, we aim to empower investors with a data-driven approach to navigating the complexities of real estate investment, helping them identify lucrative opportunities and avoid potential pitfalls."
   ]
  },
  {
   "cell_type": "markdown",
   "id": "5998c89e",
   "metadata": {},
   "source": [
    "## Data Cleaning and Preparation\n",
    "\n",
    "### Loading Datasets\n",
    "We begin by importing data from CSV files into pandas DataFrames for analysis. These files include data on property prices, rent prices, population, median age, homeownership rates, employment rates, educational attainment, and income. Cleaning and combining this data allows for meaningful analysis."
   ]
  },
  {
   "cell_type": "code",
   "execution_count": 1,
   "id": "6b176527",
   "metadata": {},
   "outputs": [],
   "source": [
    "import pandas as pd\n",
    "import sqlite3\n",
    "import matplotlib.pyplot as plt"
   ]
  },
  {
   "cell_type": "markdown",
   "id": "da126a5c",
   "metadata": {},
   "source": [
    "The property and rent datasets are loaded, and the column ```RegionName``` is renamed to ZipCode for consistency. This ensures that data from different datasets can be joined using ZipCode as a common key."
   ]
  },
  {
   "cell_type": "code",
   "execution_count": 2,
   "id": "9c9c2241",
   "metadata": {},
   "outputs": [
    {
     "name": "stdout",
     "output_type": "stream",
     "text": [
      "Missing Data Summary:\n",
      " RegionID      0\n",
      "SizeRank      0\n",
      "ZipCode       0\n",
      "RegionType    0\n",
      "StateName     0\n",
      "             ..\n",
      "2024-07-31    0\n",
      "2024-08-31    1\n",
      "2024-09-30    1\n",
      "2024-10-31    1\n",
      "2024-11-30    0\n",
      "Length: 308, dtype: int64\n",
      "Property Prices\n",
      "    RegionID  SizeRank ZipCode RegionType StateName State      City  \\\n",
      "0     91982         1   77494        zip        TX    TX      Katy   \n",
      "2     91940         3   77449        zip        TX    TX      Katy   \n",
      "3     62080         4   11368        zip        NY    NY  New York   \n",
      "4     91733         5   77084        zip        TX    TX   Houston   \n",
      "5     93144         6   79936        zip        TX    TX   El Paso   \n",
      "\n",
      "                                   Metro        CountyName     2000-01-31  \\\n",
      "0   Houston-The Woodlands-Sugar Land, TX  Fort Bend County  209435.722919   \n",
      "2   Houston-The Woodlands-Sugar Land, TX     Harris County  103309.568185   \n",
      "3  New York-Newark-Jersey City, NY-NJ-PA     Queens County  146620.762685   \n",
      "4   Houston-The Woodlands-Sugar Land, TX     Harris County  102097.232364   \n",
      "5                            El Paso, TX    El Paso County   89357.341986   \n",
      "\n",
      "   ...     2024-02-29     2024-03-31     2024-04-30     2024-05-31  \\\n",
      "0  ...  489365.253578  492166.825816  494678.731700  495987.757622   \n",
      "2  ...  278622.817454  279716.353014  280673.170893  281205.329653   \n",
      "3  ...  441650.612629  444681.142324  449148.058674  453726.123892   \n",
      "4  ...  272100.033397  273098.100629  274086.666624  274587.298531   \n",
      "5  ...  207082.791903  208805.496761  210192.454844  211300.679857   \n",
      "\n",
      "      2024-06-30     2024-07-31     2024-08-31     2024-09-30     2024-10-31  \\\n",
      "0  496293.308389  495915.193633  496321.519658  497010.530581  498131.448878   \n",
      "2  281165.720976  280932.112918  280751.015330  280563.448917  280148.257727   \n",
      "3  454422.033679  453917.938384  453291.286418  454241.711036  453996.060838   \n",
      "4  274421.035703  274129.515215  273857.629843  273605.449015  273100.007771   \n",
      "5  211810.068895  212030.628027  212192.178988  212455.640482  212643.851083   \n",
      "\n",
      "      2024-11-30  \n",
      "0  498848.926717  \n",
      "2  279363.378052  \n",
      "3  452781.826534  \n",
      "4  272503.113850  \n",
      "5  212798.677648  \n",
      "\n",
      "[5 rows x 308 columns]\n"
     ]
    }
   ],
   "source": [
    "# Load data into pandas DataFrames\n",
    "median_property_prices_by_zip_data = pd.read_csv(\"zip_zhvi_uc_sfrcondo_tier_0.33_0.67_sm_sa_month.csv\")\n",
    "\n",
    "median_property_prices_by_zip_data.rename(columns={\"RegionName\": \"ZipCode\"}, inplace=True)\n",
    "median_property_prices_by_zip_data[\"ZipCode\"] = median_property_prices_by_zip_data[\"ZipCode\"].astype(str)\n",
    "\n",
    "\n",
    "median_property_prices_by_zip_data = median_property_prices_by_zip_data[\n",
    "    median_property_prices_by_zip_data[\"ZipCode\"].str.match(r\"^\\d{5}$\")\n",
    "]\n",
    "\n",
    "\n",
    "# Example: Drop rows with excessive missing data\n",
    "threshold = 0.3  # Allow rows with at most 30% missing values\n",
    "median_property_prices_by_zip_data = median_property_prices_by_zip_data[\n",
    "    median_property_prices_by_zip_data.isnull().mean(axis=1) < threshold\n",
    "]\n",
    "\n",
    "\n",
    "# Handle missing values by imputing or flagging\n",
    "missing_data_property_summary = median_property_prices_by_zip_data.isnull().sum()\n",
    "print(\"Missing Data Summary:\\n\", missing_data_property_summary)\n",
    "\n",
    "\n",
    "# Display a quick overview of each dataset\n",
    "print('Property Prices\\n', median_property_prices_by_zip_data.head())"
   ]
  },
  {
   "cell_type": "code",
   "execution_count": 3,
   "id": "1275177e",
   "metadata": {},
   "outputs": [
    {
     "name": "stdout",
     "output_type": "stream",
     "text": [
      "Missing Data Summary:\n",
      " RegionID      0\n",
      "SizeRank      0\n",
      "ZipCode       0\n",
      "RegionType    0\n",
      "StateName     0\n",
      "             ..\n",
      "2024-07-31    0\n",
      "2024-08-31    0\n",
      "2024-09-30    0\n",
      "2024-10-31    0\n",
      "2024-11-30    0\n",
      "Length: 128, dtype: int64\n",
      "Rent Prices\n",
      "    RegionID  SizeRank ZipCode RegionType StateName State          City  \\\n",
      "0     91982         1   77494        zip        TX    TX          Katy   \n",
      "1     91940         3   77449        zip        TX    TX          Katy   \n",
      "2     91733         5   77084        zip        TX    TX       Houston   \n",
      "4     62093         7   11385        zip        NY    NY      New York   \n",
      "5     92593         8   78660        zip        TX    TX  Pflugerville   \n",
      "\n",
      "                                   Metro        CountyName   2015-01-31  ...  \\\n",
      "0   Houston-The Woodlands-Sugar Land, TX  Fort Bend County  1519.616063  ...   \n",
      "1   Houston-The Woodlands-Sugar Land, TX     Harris County  1279.883137  ...   \n",
      "2   Houston-The Woodlands-Sugar Land, TX     Harris County  1261.850008  ...   \n",
      "4  New York-Newark-Jersey City, NY-NJ-PA     Queens County          NaN  ...   \n",
      "5       Austin-Round Rock-Georgetown, TX     Travis County  1232.798160  ...   \n",
      "\n",
      "    2024-02-29   2024-03-31   2024-04-30   2024-05-31   2024-06-30  \\\n",
      "0  1910.432747  1914.355364  1931.007314  1927.534722  1929.536796   \n",
      "1  1839.756552  1841.545951  1841.979741  1844.524906  1846.854582   \n",
      "2  1828.449797  1831.799751  1844.545646  1845.792405  1845.994618   \n",
      "4  2954.636774  2980.829978  2974.427414  2982.750456  2975.817522   \n",
      "5  1810.199986  1816.256207  1811.063320  1807.668686  1800.182532   \n",
      "\n",
      "    2024-07-31   2024-08-31   2024-09-30   2024-10-31   2024-11-30  \n",
      "0  1926.265470  1932.193565  1931.549893  1931.921991  1942.930937  \n",
      "1  1852.154547  1849.478524  1847.513761  1850.508375  1858.195987  \n",
      "2  1849.653111  1854.026645  1863.472921  1861.649457  1862.722469  \n",
      "4  2999.124274  2990.692977  2976.092301  2958.413011  2950.543350  \n",
      "5  1797.869590  1790.469347  1787.951495  1785.228200  1790.600096  \n",
      "\n",
      "[5 rows x 128 columns]\n"
     ]
    }
   ],
   "source": [
    "median_rent_prices_by_zip_file = \"zip_zori_uc_sfrcondomfr_sm_sa_month.csv\"\n",
    "median_rent_prices_by_zip_data = pd.read_csv(median_rent_prices_by_zip_file)\n",
    "median_rent_prices_by_zip_data.rename(columns={\"RegionName\": \"ZipCode\"}, inplace=True)\n",
    "median_rent_prices_by_zip_data[\"ZipCode\"] = median_rent_prices_by_zip_data[\"ZipCode\"].astype(str)\n",
    "\n",
    "median_rent_prices_by_zip_data = median_rent_prices_by_zip_data[\n",
    "    median_rent_prices_by_zip_data[\"ZipCode\"].str.match(r\"^\\d{5}$\")\n",
    "]\n",
    "\n",
    "threshold = 0.3 \n",
    "median_rent_prices_by_zip_data = median_rent_prices_by_zip_data[\n",
    "    median_rent_prices_by_zip_data.isnull().mean(axis=1) < threshold\n",
    "]\n",
    "\n",
    "missing_data_rent_summary = median_rent_prices_by_zip_data.isnull().sum()\n",
    "print(\"Missing Data Summary:\\n\", missing_data_rent_summary)\n",
    "\n",
    "print('Rent Prices\\n', median_rent_prices_by_zip_data.head())"
   ]
  },
  {
   "cell_type": "markdown",
   "id": "13c84877",
   "metadata": {},
   "source": [
    "Population data for 2010 and 2020 is processed to clean up column names and standardize ```ZipCode```. We calculate the population growth percentage to understand demographic trends, which can influence housing demand and affordability."
   ]
  },
  {
   "cell_type": "code",
   "execution_count": 4,
   "id": "90fc77f3",
   "metadata": {},
   "outputs": [
    {
     "name": "stdout",
     "output_type": "stream",
     "text": [
      "Missing Data Summary:\n",
      " Geography               0\n",
      "ZipCode                 0\n",
      "Total_Population        0\n",
      "Unnamed: 3          33120\n",
      "dtype: int64\n",
      "Missing Data Summary:\n",
      " RegionID      0\n",
      "SizeRank      0\n",
      "ZipCode       0\n",
      "RegionType    0\n",
      "StateName     0\n",
      "             ..\n",
      "2024-07-31    0\n",
      "2024-08-31    0\n",
      "2024-09-30    0\n",
      "2024-10-31    0\n",
      "2024-11-30    0\n",
      "Length: 128, dtype: int64\n",
      "  ZipCode  Total_Population_2010  Total_Population_2020  Growth_Percentage\n",
      "0   00601                  18570                  17242          -7.151319\n",
      "1   00602                  41520                  37548          -9.566474\n",
      "2   00603                  54689                  49804          -8.932326\n",
      "3   00606                   6615                   5009         -24.278156\n",
      "4   00610                  29016                  25731         -11.321340\n"
     ]
    }
   ],
   "source": [
    "population_2010_by_zip_data = pd.read_csv(\"DECENNIALSF12010.P1-Data.csv\", header=1)\n",
    "population_2020_by_zip_data = pd.read_csv(\"DECENNIALDHC2020.P1-Data.csv\", header=1)\n",
    "\n",
    "rename_dict = {\n",
    "    \"Geographic Area Name\": \"ZipCode\",\n",
    "    \"Total\": \"Total_Population\",\n",
    "    \"!!Total\": \"Total_Population\"\n",
    "}\n",
    "\n",
    "population_2010_by_zip_data.columns = population_2010_by_zip_data.columns.str.strip()\n",
    "population_2020_by_zip_data.columns = population_2020_by_zip_data.columns.str.strip()\n",
    "\n",
    "\n",
    "population_2010_by_zip_data.rename(columns=rename_dict, inplace=True)\n",
    "population_2010_by_zip_data[\"ZipCode\"] = population_2010_by_zip_data[\"ZipCode\"].str[-5:] \n",
    "population_2010_by_zip_data[\"ZipCode\"] = population_2010_by_zip_data[\"ZipCode\"].astype(str)\n",
    "\n",
    "population_2010_by_zip_data = population_2010_by_zip_data[\n",
    "    population_2010_by_zip_data[\"ZipCode\"].str.match(r\"^\\d{5}$\")\n",
    "]\n",
    "\n",
    "threshold = 0.3 \n",
    "population_2010_by_zip_data = population_2010_by_zip_data[\n",
    "    population_2010_by_zip_data.isnull().mean(axis=1) < threshold\n",
    "]\n",
    "\n",
    "missing_data_rent_summary = population_2010_by_zip_data.isnull().sum()\n",
    "print(\"Missing Data Summary:\\n\", missing_data_rent_summary)\n",
    "\n",
    "\n",
    "population_2020_by_zip_data.rename(columns=rename_dict, inplace=True)\n",
    "population_2020_by_zip_data[\"ZipCode\"] = population_2020_by_zip_data[\"ZipCode\"].str[-5:] \n",
    "\n",
    "population_2020_by_zip_data[\"ZipCode\"] = population_2020_by_zip_data[\"ZipCode\"].astype(str)\n",
    "\n",
    "population_2020_by_zip_data = population_2020_by_zip_data[\n",
    "    population_2020_by_zip_data[\"ZipCode\"].str.match(r\"^\\d{5}$\")\n",
    "]\n",
    "\n",
    "threshold = 0.3 \n",
    "population_2020_by_zip_data = population_2020_by_zip_data[\n",
    "    population_2020_by_zip_data.isnull().mean(axis=1) < threshold\n",
    "]\n",
    "\n",
    "missing_data_rent_summary = median_rent_prices_by_zip_data.isnull().sum()\n",
    "print(\"Missing Data Summary:\\n\", missing_data_rent_summary)\n",
    "\n",
    "population_2010_by_zip_data = population_2010_by_zip_data[['ZipCode', 'Total_Population']]\n",
    "population_2020_by_zip_data = population_2020_by_zip_data[['ZipCode', 'Total_Population']]\n",
    "\n",
    "population_data = pd.merge(\n",
    "    population_2010_by_zip_data,\n",
    "    population_2020_by_zip_data,\n",
    "    on=\"ZipCode\",\n",
    "    suffixes=('_2010', '_2020')\n",
    ")\n",
    "\n",
    "population_data[\"Growth_Percentage\"] = (\n",
    "    (population_data[\"Total_Population_2020\"] - population_data[\"Total_Population_2010\"]) /\n",
    "    population_data[\"Total_Population_2010\"]\n",
    ") * 100\n",
    "\n",
    "\n",
    "# Preview the combined data\n",
    "print(population_data.head())"
   ]
  },
  {
   "cell_type": "markdown",
   "id": "f918750a",
   "metadata": {},
   "source": [
    "Age distribution data is cleaned and processed to calculate an approximate median age for each zip code. Median age is a demographic factor that could potentially correlate with housing preferences and market stability."
   ]
  },
  {
   "cell_type": "code",
   "execution_count": 5,
   "id": "f6e8543e",
   "metadata": {},
   "outputs": [
    {
     "name": "stderr",
     "output_type": "stream",
     "text": [
      "C:\\Users\\mbryant\\anaconda3\\lib\\site-packages\\IPython\\core\\interactiveshell.py:3165: DtypeWarning: Columns (3,5,11,13,15,17,23,25,41,43,45,47,49,53,61,63,155,157,163,165,167,169,175,177,193,195,197,199,201,205,213,215,307,309,315,317,319,321,327,329,345,347,349,351,353,357,365,367) have mixed types.Specify dtype option on import or set low_memory=False.\n",
      "  has_raised = await self.run_ast_nodes(code_ast.body, cell_name,\n",
      "<ipython-input-5-9e5e537052af>:42: UserWarning: Boolean Series key will be reindexed to match DataFrame index.\n",
      "  median_age_by_zip_data = median_age_by_zip_data[\n"
     ]
    },
    {
     "name": "stdout",
     "output_type": "stream",
     "text": [
      "Missing Data Summary:\n",
      " Geography                                                                                        0\n",
      "ZipCode                                                                                          0\n",
      "Total_Population                                                                                 0\n",
      "Margin of Error!!Total!!Total population                                                         0\n",
      "Estimate!!Total!!Total population!!AGE!!Under 5 years                                            0\n",
      "                                                                                                ..\n",
      "Margin of Error!!Percent Female!!Total population!!SUMMARY INDICATORS!!Child dependency ratio    0\n",
      "Estimate!!Percent Female!!Total population!!PERCENT ALLOCATED!!Sex                               0\n",
      "Margin of Error!!Percent Female!!Total population!!PERCENT ALLOCATED!!Sex                        0\n",
      "Estimate!!Percent Female!!Total population!!PERCENT ALLOCATED!!Age                               0\n",
      "Margin of Error!!Percent Female!!Total population!!PERCENT ALLOCATED!!Age                        0\n",
      "Length: 458, dtype: int64\n",
      "Median Age\n",
      "   ZipCode  Median_Age_Approx  Total_Population\n",
      "0   00601          43.439208             16721\n",
      "1   00602          44.500000             37510\n",
      "2   00603          44.421715             48317\n",
      "3   00606          46.652254              5435\n",
      "4   00610          44.118010             25413\n"
     ]
    }
   ],
   "source": [
    "median_age_by_zip_data = pd.read_csv(\"ACSST5Y2023.S0101-Data.csv\", header=1)\n",
    "# columns_to_drop = [col for col in median_age_by_zip_data.columns if \"Margin\" in col]\n",
    "# median_age_by_zip_data = median_age_by_zip_data.drop(columns=columns_to_drop)\n",
    "\n",
    "age_groups = {\n",
    "    \"Estimate!!Total!!Total population!!AGE!!Under 5 years\": 2,\n",
    "    \"Estimate!!Total!!Total population!!AGE!!5 to 9 years\": 7,\n",
    "    \"Estimate!!Total!!Total population!!AGE!!10 to 14 years\": 12,\n",
    "    \"Estimate!!Total!!Total population!!AGE!!15 to 19 years\": 17,\n",
    "    \"Estimate!!Total!!Total population!!AGE!!20 to 24 years\": 22,\n",
    "    \"Estimate!!Total!!Total population!!AGE!!25 to 29 years\": 27,\n",
    "    \"Estimate!!Total!!Total population!!AGE!!30 to 34 years\": 32,\n",
    "    \"Estimate!!Total!!Total population!!AGE!!35 to 39 years\": 37,\n",
    "    \"Estimate!!Total!!Total population!!AGE!!40 to 44 years\": 42,\n",
    "    \"Estimate!!Total!!Total population!!AGE!!45 to 49 years\": 47,\n",
    "    \"Estimate!!Total!!Total population!!AGE!!50 to 54 years\": 52,\n",
    "    \"Estimate!!Total!!Total population!!AGE!!55 to 59 years\": 57,\n",
    "    \"Estimate!!Total!!Total population!!AGE!!60 to 64 years\": 62,\n",
    "    \"Estimate!!Total!!Total population!!AGE!!65 to 69 years\": 67,\n",
    "    \"Estimate!!Total!!Total population!!AGE!!70 to 74 years\": 72,\n",
    "    \"Estimate!!Total!!Total population!!AGE!!75 to 79 years\": 77,\n",
    "    \"Estimate!!Total!!Total population!!AGE!!80 to 84 years\": 82,\n",
    "    \"Estimate!!Total!!Total population!!AGE!!85 years and over\": 87,\n",
    "}\n",
    "\n",
    "\n",
    "median_age_by_zip_data.drop(columns=[\"Unnamed: 458\"], inplace=True, errors=\"ignore\")\n",
    "\n",
    "# Rename relevant columns\n",
    "rename_dict = {\n",
    "    \"Geography\": \"Geography\",\n",
    "    \"Geographic Area Name\": \"ZipCode\",\n",
    "    \"Estimate!!Total!!Total population\": \"Total_Population\",\n",
    "}\n",
    "\n",
    "# Rename columns\n",
    "median_age_by_zip_data.rename(columns=rename_dict, inplace=True)\n",
    "\n",
    "median_age_by_zip_data[\"ZipCode\"] = median_age_by_zip_data[\"Geography\"].str[-5:]\n",
    "median_age_by_zip_data[\"ZipCode\"] = median_age_by_zip_data[\"ZipCode\"].astype(str)\n",
    "\n",
    "median_age_by_zip_data = median_age_by_zip_data[\n",
    "    population_2020_by_zip_data[\"ZipCode\"].str.match(r\"^\\d{5}$\")\n",
    "]\n",
    "\n",
    "threshold = 0.3 \n",
    "median_age_by_zip_data = median_age_by_zip_data[\n",
    "    median_age_by_zip_data.isnull().mean(axis=1) < threshold\n",
    "]\n",
    "\n",
    "missing_data_rent_summary = median_age_by_zip_data.isnull().sum()\n",
    "print(\"Missing Data Summary:\\n\", missing_data_rent_summary)\n",
    "\n",
    "# Calculate weighted average age as a proxy for median age\n",
    "median_age_by_zip_data[\"Median_Age_Approx\"] = sum(\n",
    "    median_age_by_zip_data[age_col] * midpoint\n",
    "    for age_col, midpoint in age_groups.items()\n",
    ") / median_age_by_zip_data[\"Total_Population\"]\n",
    "\n",
    "\n",
    "median_age_by_zip_data = median_age_by_zip_data[[\"ZipCode\", \"Median_Age_Approx\", \"Total_Population\"]]\n",
    "\n",
    "print('Median Age\\n', median_age_by_zip_data.head())"
   ]
  },
  {
   "cell_type": "code",
   "execution_count": 6,
   "id": "8a3903c5",
   "metadata": {},
   "outputs": [
    {
     "name": "stdout",
     "output_type": "stream",
     "text": [
      "     ZipCode  Median_Age_Approx  Total_Population\n",
      "671    02802          55.493409               531\n",
      "672    02804          41.776400              2661\n",
      "678    02813          47.352376              8017\n",
      "679    02814          43.488344              7421\n",
      "969    03853          61.119360               687\n",
      "970    03854          51.504219               948\n",
      "1178   04444          39.513409              9322\n",
      "2972   11581          39.111072             22652\n",
      "3213   12170          39.129187              5225\n",
      "3326   12484          43.615714              3271\n",
      "3327   12485          34.345951              1136\n",
      "3345   12512          44.090517               232\n",
      "3912   13692          56.166667               216\n",
      "4037   14054          38.203091              1359\n"
     ]
    }
   ],
   "source": [
    "filtered_data = median_age_by_zip_data.loc[\n",
    "    median_age_by_zip_data['ZipCode'].isin(['02802', '02804', '02813',                  \n",
    "'02814',                   \n",
    "'03853',                   \n",
    "'03854',                    \n",
    "'04444',                 \n",
    "'11581',                 \n",
    "'12170',                   \n",
    "'12484',                  \n",
    "'12485',                    \n",
    "'12512',                  \n",
    "'13692',                    \n",
    "'14054'])\n",
    "]\n",
    "\n",
    "# View the result\n",
    "print(filtered_data)"
   ]
  },
  {
   "cell_type": "markdown",
   "id": "4abb06f5",
   "metadata": {},
   "source": [
    "The homeownership dataset is refined to retain only relevant columns such as total housing units, occupancy status, and vacancy rates. These metrics provide insights into housing market conditions and demand across zip codes."
   ]
  },
  {
   "cell_type": "code",
   "execution_count": 7,
   "id": "79f96118",
   "metadata": {},
   "outputs": [
    {
     "name": "stderr",
     "output_type": "stream",
     "text": [
      "C:\\Users\\mbryant\\anaconda3\\lib\\site-packages\\IPython\\core\\interactiveshell.py:3165: DtypeWarning: Columns (150,151) have mixed types.Specify dtype option on import or set low_memory=False.\n",
      "  has_raised = await self.run_ast_nodes(code_ast.body, cell_name,\n"
     ]
    },
    {
     "name": "stdout",
     "output_type": "stream",
     "text": [
      "Missing Data Summary:\n",
      " Geography                                                                                                                                                                             0\n",
      "ZipCode                                                                                                                                                                               0\n",
      "Total_Housing_Units                                                                                                                                                                   0\n",
      "Margin of Error!!HOUSING OCCUPANCY!!Total housing units                                                                                                                               0\n",
      "Occupied_Units                                                                                                                                                                        0\n",
      "                                                                                                                                                                                     ..\n",
      "Percent Margin of Error!!GROSS RENT AS A PERCENTAGE OF HOUSEHOLD INCOME (GRAPI)!!Occupied units paying rent (excluding units where GRAPI cannot be computed)!!30.0 to 34.9 percent    0\n",
      "GRAPI_35_Plus_Percent                                                                                                                                                                 0\n",
      "Percent Margin of Error!!GROSS RENT AS A PERCENTAGE OF HOUSEHOLD INCOME (GRAPI)!!Occupied units paying rent (excluding units where GRAPI cannot be computed)!!35.0 percent or more    0\n",
      "Percent!!GROSS RENT AS A PERCENTAGE OF HOUSEHOLD INCOME (GRAPI)!!Occupied units paying rent (excluding units where GRAPI cannot be computed)!!Not computed                            0\n",
      "Percent Margin of Error!!GROSS RENT AS A PERCENTAGE OF HOUSEHOLD INCOME (GRAPI)!!Occupied units paying rent (excluding units where GRAPI cannot be computed)!!Not computed            0\n",
      "Length: 574, dtype: int64\n",
      "Missing Data Summary:\n",
      " ZipCode                   0\n",
      "Total_Housing_Units       0\n",
      "Occupied_Units            0\n",
      "Vacant_Units              0\n",
      "Homeowner_Vacancy_Rate    0\n",
      "Rental_Vacancy_Rate       0\n",
      "GRAPI_20_24_Percent       0\n",
      "GRAPI_25_29_Percent       0\n",
      "GRAPI_30_34_Percent       0\n",
      "GRAPI_35_Plus_Percent     0\n",
      "dtype: int64\n",
      "Homeownership Rate\n",
      "   ZipCode  Total_Housing_Units  Occupied_Units  Vacant_Units  \\\n",
      "0   00601                 7356            5611          1745   \n",
      "1   00602                17210           12546          4664   \n",
      "2   00603                25262           19537          5725   \n",
      "3   00606                 2685            1871           814   \n",
      "4   00610                12174            8838          3336   \n",
      "\n",
      "  Homeowner_Vacancy_Rate Rental_Vacancy_Rate GRAPI_20_24_Percent  \\\n",
      "0                    0.4                 2.6                14.0   \n",
      "1                    0.3                12.4                15.2   \n",
      "2                    1.1                 2.7                10.4   \n",
      "3                    1.8                 0.0                 5.4   \n",
      "4                    0.2                 8.0                11.5   \n",
      "\n",
      "  GRAPI_25_29_Percent GRAPI_30_34_Percent GRAPI_35_Plus_Percent  \n",
      "0                11.1                10.7                  36.9  \n",
      "1                 9.1                11.3                  33.2  \n",
      "2                18.6                 8.6                  35.5  \n",
      "3                 0.0                 9.5                  23.6  \n",
      "4                 5.9                12.3                  34.7  \n"
     ]
    }
   ],
   "source": [
    "homeownership_rate_by_zip_data = pd.read_csv(\"ACSDP5Y2023.DP04-Data.csv\", skiprows=1)\n",
    "homeownership_rate_by_zip_data = homeownership_rate_by_zip_data.dropna(axis=1, how='all')  # Drop entirely empty columns\n",
    "rename_dict = {\n",
    "    \"Geography\": \"Geography\",\n",
    "    \"Geographic Area Name\": \"ZipCode\",\n",
    "    \"Estimate!!HOUSING OCCUPANCY!!Total housing units\": \"Total_Housing_Units\",\n",
    "    \"Estimate!!HOUSING OCCUPANCY!!Total housing units!!Occupied housing units\": \"Occupied_Units\",\n",
    "    \"Estimate!!HOUSING OCCUPANCY!!Total housing units!!Vacant housing units\": \"Vacant_Units\",\n",
    "    \"Estimate!!HOUSING OCCUPANCY!!Total housing units!!Homeowner vacancy rate\": \"Homeowner_Vacancy_Rate\",\n",
    "     \"Estimate!!HOUSING OCCUPANCY!!Total housing units!!Rental vacancy rate\": \"Rental_Vacancy_Rate\",\n",
    "    \"Percent!!GROSS RENT AS A PERCENTAGE OF HOUSEHOLD INCOME (GRAPI)!!Occupied units paying rent (excluding units where GRAPI cannot be computed)!!20.0 to 24.9 percent\": \"GRAPI_20_24_Percent\",\n",
    "    \"Percent!!GROSS RENT AS A PERCENTAGE OF HOUSEHOLD INCOME (GRAPI)!!Occupied units paying rent (excluding units where GRAPI cannot be computed)!!25.0 to 29.9 percent\": \"GRAPI_25_29_Percent\",\n",
    "    \"Percent!!GROSS RENT AS A PERCENTAGE OF HOUSEHOLD INCOME (GRAPI)!!Occupied units paying rent (excluding units where GRAPI cannot be computed)!!30.0 to 34.9 percent\": \"GRAPI_30_34_Percent\",\n",
    "    \"Percent!!GROSS RENT AS A PERCENTAGE OF HOUSEHOLD INCOME (GRAPI)!!Occupied units paying rent (excluding units where GRAPI cannot be computed)!!35.0 percent or more\": \"GRAPI_35_Plus_Percent\",\n",
    "}\n",
    "\n",
    "homeownership_rate_by_zip_data.rename(columns=rename_dict, inplace=True)\n",
    "homeownership_rate_by_zip_data[\"ZipCode\"] = homeownership_rate_by_zip_data[\"ZipCode\"].str[-5:]  # Extract last 5 characters\n",
    "\n",
    "homeownership_rate_by_zip_data = homeownership_rate_by_zip_data[\n",
    "    homeownership_rate_by_zip_data[\"ZipCode\"].str.match(r\"^\\d{5}$\")\n",
    "]\n",
    "\n",
    "homeownership_rate_by_zip_data[\"ZipCode\"] = homeownership_rate_by_zip_data[\"ZipCode\"].astype(str)\n",
    "\n",
    "\n",
    "threshold = 0.3 \n",
    "homeownership_rate_by_zip_data = homeownership_rate_by_zip_data[\n",
    "    homeownership_rate_by_zip_data.isnull().mean(axis=1) < threshold\n",
    "]\n",
    "\n",
    "missing_data_rent_summary = homeownership_rate_by_zip_data.isnull().sum()\n",
    "print(\"Missing Data Summary:\\n\", missing_data_rent_summary)\n",
    "\n",
    "columns_to_keep = [\n",
    "    \"ZipCode\", \"Total_Housing_Units\", \"Occupied_Units\",\n",
    "    \"Vacant_Units\", \"Homeowner_Vacancy_Rate\", \"Rental_Vacancy_Rate\",\n",
    "    \"GRAPI_20_24_Percent\", \"GRAPI_25_29_Percent\", \"GRAPI_30_34_Percent\",\n",
    "    \"GRAPI_35_Plus_Percent\"\n",
    "]\n",
    "\n",
    "homeownership_rate_by_zip_data = homeownership_rate_by_zip_data[columns_to_keep]\n",
    "\n",
    "# Handle missing values by imputing or flagging\n",
    "missing_data_summary = homeownership_rate_by_zip_data.isnull().sum()\n",
    "print(\"Missing Data Summary:\\n\", missing_data_summary)\n",
    "print('Homeownership Rate\\n', homeownership_rate_by_zip_data.head())"
   ]
  },
  {
   "cell_type": "code",
   "execution_count": 8,
   "id": "522bdf4d",
   "metadata": {},
   "outputs": [
    {
     "name": "stdout",
     "output_type": "stream",
     "text": [
      "     ZipCode  Total_Housing_Units  Occupied_Units  Vacant_Units  \\\n",
      "671    02802                  384             302            82   \n",
      "672    02804                 1182            1014           168   \n",
      "678    02813                 5334            3481          1853   \n",
      "679    02814                 3249            2879           370   \n",
      "969    03853                 1310             325           985   \n",
      "970    03854                  517             439            78   \n",
      "1178   04444                 3936            3626           310   \n",
      "2972   11581                 7423            7108           315   \n",
      "3213   12170                 2327            2073           254   \n",
      "3326   12484                 1479            1371           108   \n",
      "3327   12485                  815             262           553   \n",
      "3345   12512                  139             115            24   \n",
      "3912   13692                  515              80           435   \n",
      "4037   14054                  571             555            16   \n",
      "\n",
      "     Homeowner_Vacancy_Rate Rental_Vacancy_Rate GRAPI_20_24_Percent  \\\n",
      "671                     0.0                24.1                 0.0   \n",
      "672                     0.0                 0.0                 0.0   \n",
      "678                     2.7                 0.0                17.2   \n",
      "679                     0.0                 0.0                 9.7   \n",
      "969                     0.0                 0.0                77.1   \n",
      "970                     0.0                 0.0                21.6   \n",
      "1178                    1.3                14.3                14.3   \n",
      "2972                    0.0                 3.9                26.7   \n",
      "3213                    1.5                 6.2                13.8   \n",
      "3326                    0.0                 0.0                 0.0   \n",
      "3327                   14.2                 6.6                 4.3   \n",
      "3345                    0.0                 0.0                 0.0   \n",
      "3912                   16.9                 0.0               100.0   \n",
      "4037                    0.0                 0.0                11.1   \n",
      "\n",
      "     GRAPI_25_29_Percent GRAPI_30_34_Percent GRAPI_35_Plus_Percent  \n",
      "671                  0.0                 0.0                   0.0  \n",
      "672                 37.0                10.4                   0.0  \n",
      "678                  7.5                14.5                  46.6  \n",
      "679                  0.0                 7.9                  52.9  \n",
      "969                  0.0                 0.0                  12.5  \n",
      "970                 35.1                 0.0                   0.0  \n",
      "1178                24.8                 4.7                  35.3  \n",
      "2972                 6.4                17.0                  35.8  \n",
      "3213                23.8                 2.1                  25.9  \n",
      "3326                 0.0                 0.0                 100.0  \n",
      "3327                 4.3                 0.0                  79.3  \n",
      "3345                 0.0                 0.0                   0.0  \n",
      "3912                 0.0                 0.0                   0.0  \n",
      "4037                 0.0                33.3                  22.2  \n"
     ]
    }
   ],
   "source": [
    "filtered_data = homeownership_rate_by_zip_data.loc[\n",
    "    homeownership_rate_by_zip_data['ZipCode'].isin(['02802', '02804', '02813',                  \n",
    "'02814',                   \n",
    "'03853',                   \n",
    "'03854',                    \n",
    "'04444',                 \n",
    "'11581',                 \n",
    "'12170',                   \n",
    "'12484',                  \n",
    "'12485',                    \n",
    "'12512',                  \n",
    "'13692',                    \n",
    "'14054'])\n",
    "]\n",
    "\n",
    "# View the result\n",
    "print(filtered_data)"
   ]
  },
  {
   "cell_type": "markdown",
   "id": "39b46f4a",
   "metadata": {},
   "source": [
    "Employment data is processed to calculate employment and unemployment rates for the population aged 16 and older. Employment rates are a key indicator of economic health and housing affordability."
   ]
  },
  {
   "cell_type": "code",
   "execution_count": 9,
   "id": "3d6b0515",
   "metadata": {},
   "outputs": [
    {
     "name": "stdout",
     "output_type": "stream",
     "text": [
      "Missing Data Summary:\n",
      " Geography                   0\n",
      "ZipCode                     0\n",
      "Population_16_and_Over      0\n",
      "In_Labor_Force              0\n",
      "Employed                    0\n",
      "Employment_Rate           591\n",
      "Unemployment_Rate         922\n",
      "dtype: int64\n",
      "Cleaned Employment Rate Data\n",
      "         Geography ZipCode  Population_16_and_Over  In_Labor_Force  Employed  \\\n",
      "0  860Z200US00601   00601                   14106            6059      4758   \n",
      "1  860Z200US00602   00602                   32600           12328     11572   \n",
      "2  860Z200US00603   00603                   41422           16358     13543   \n",
      "3  860Z200US00606   00606                    4665            1414      1414   \n",
      "4  860Z200US00610   00610                   22100            9876      9251   \n",
      "\n",
      "   Employment_Rate  Unemployment_Rate  \n",
      "0         0.337303           0.214722  \n",
      "1         0.354969           0.061324  \n",
      "2         0.326952           0.172087  \n",
      "3         0.303108           0.000000  \n",
      "4         0.418597           0.063285  \n"
     ]
    }
   ],
   "source": [
    "employment_rate_by_zip_data = pd.read_csv(\"ACSDP5Y2023.DP03-Data.csv\", skiprows=1)\n",
    "\n",
    "# Function to clean column names and calculate employment rate\n",
    "def clean_employment_data(df):\n",
    "    # Rename columns to simpler names for processing\n",
    "    df.rename(columns={\n",
    "        \"Geography\": \"Geography\",\n",
    "        \"Geographic Area Name\": \"ZipCode\",\n",
    "        \"Estimate!!EMPLOYMENT STATUS!!Population 16 years and over\": \"Population_16_and_Over\",\n",
    "        \"Estimate!!EMPLOYMENT STATUS!!Population 16 years and over!!In labor force\": \"In_Labor_Force\",\n",
    "        \"Estimate!!EMPLOYMENT STATUS!!Population 16 years and over!!In labor force!!Civilian labor force!!Employed\": \"Employed\"\n",
    "    }, inplace=True)\n",
    "\n",
    "    # Convert relevant columns to numeric\n",
    "    numeric_cols = [\"Population_16_and_Over\", \"In_Labor_Force\", \"Employed\"]\n",
    "    for col in numeric_cols:\n",
    "        df[col] = pd.to_numeric(df[col], errors=\"coerce\")\n",
    "\n",
    "    # Calculate the employment rate\n",
    "    df[\"Employment_Rate\"] = df[\"Employed\"] / df[\"Population_16_and_Over\"]\n",
    "    \n",
    "    # Calculate the unemployment rate\n",
    "    df[\"Unemployment_Rate\"] = (df[\"In_Labor_Force\"] - df[\"Employed\"]) / df[\"In_Labor_Force\"] \n",
    "\n",
    "\n",
    "    # Keep only relevant columns\n",
    "    df = df[[\"Geography\", \"ZipCode\", \"Population_16_and_Over\", \"In_Labor_Force\", \"Employed\", \"Employment_Rate\", \"Unemployment_Rate\"]]\n",
    "\n",
    "    return df\n",
    "\n",
    "# Clean the employment rate data\n",
    "employment_rate_by_zip_data = clean_employment_data(employment_rate_by_zip_data)\n",
    "employment_rate_by_zip_data[\"ZipCode\"] = employment_rate_by_zip_data[\"ZipCode\"].str[-5:]\n",
    "employment_rate_by_zip_data = employment_rate_by_zip_data[\n",
    "    employment_rate_by_zip_data[\"ZipCode\"].str.match(r\"^\\d{5}$\")\n",
    "]\n",
    "\n",
    "employment_rate_by_zip_data[\"ZipCode\"] = employment_rate_by_zip_data[\"ZipCode\"].astype(str)\n",
    "\n",
    "\n",
    "threshold = 0.3 \n",
    "employment_rate_by_zip_data = employment_rate_by_zip_data[\n",
    "    employment_rate_by_zip_data.isnull().mean(axis=1) < threshold\n",
    "]\n",
    "\n",
    "missing_data_rent_summary = employment_rate_by_zip_data.isnull().sum()\n",
    "print(\"Missing Data Summary:\\n\", missing_data_rent_summary)\n",
    "\n",
    "# Display cleaned data\n",
    "print(\"Cleaned Employment Rate Data\\n\", employment_rate_by_zip_data.head())\n"
   ]
  },
  {
   "cell_type": "code",
   "execution_count": 10,
   "id": "947bdfb4",
   "metadata": {},
   "outputs": [
    {
     "name": "stdout",
     "output_type": "stream",
     "text": [
      "           Geography ZipCode  Population_16_and_Over  In_Labor_Force  \\\n",
      "671   860Z200US02802   02802                     511             350   \n",
      "672   860Z200US02804   02804                    2117            1682   \n",
      "678   860Z200US02813   02813                    7113            4436   \n",
      "679   860Z200US02814   02814                    5963            3930   \n",
      "969   860Z200US03853   03853                     657             269   \n",
      "970   860Z200US03854   03854                     796             413   \n",
      "1178  860Z200US04444   04444                    7174            5164   \n",
      "2972  860Z200US11581   11581                   17815           11605   \n",
      "3213  860Z200US12170   12170                    4248            3037   \n",
      "3326  860Z200US12484   12484                    2711            1482   \n",
      "3327  860Z200US12485   12485                     770             570   \n",
      "3345  860Z200US12512   12512                     221             198   \n",
      "3912  860Z200US13692   13692                     195             117   \n",
      "4037  860Z200US14054   14054                    1046             752   \n",
      "\n",
      "      Employed  Employment_Rate  Unemployment_Rate  \n",
      "671        350         0.684932           0.000000  \n",
      "672       1628         0.769013           0.032105  \n",
      "678       4218         0.592999           0.049143  \n",
      "679       3849         0.645480           0.020611  \n",
      "969        252         0.383562           0.063197  \n",
      "970        413         0.518844           0.000000  \n",
      "1178      4999         0.696822           0.031952  \n",
      "2972     11069         0.621330           0.046187  \n",
      "3213      2878         0.677495           0.052354  \n",
      "3326      1385         0.510882           0.065452  \n",
      "3327       561         0.728571           0.015789  \n",
      "3345       198         0.895928           0.000000  \n",
      "3912       104         0.533333           0.111111  \n",
      "4037       728         0.695985           0.031915  \n"
     ]
    }
   ],
   "source": [
    "filtered_data = employment_rate_by_zip_data.loc[\n",
    "    employment_rate_by_zip_data['ZipCode'].isin(['02802', '02804', '02813',                  \n",
    "'02814',                   \n",
    "'03853',                   \n",
    "'03854',                    \n",
    "'04444',                 \n",
    "'11581',                 \n",
    "'12170',                   \n",
    "'12484',                  \n",
    "'12485',                    \n",
    "'12512',                  \n",
    "'13692',                    \n",
    "'14054'])\n",
    "]\n",
    "\n",
    "# View the result\n",
    "print(filtered_data)"
   ]
  },
  {
   "cell_type": "markdown",
   "id": "7da83dff",
   "metadata": {},
   "source": [
    "We focus on the percentage of the population with a bachelor's degree or higher. Higher educational attainment often correlates with income levels and housing preferences."
   ]
  },
  {
   "cell_type": "code",
   "execution_count": 11,
   "id": "f5c2138a",
   "metadata": {},
   "outputs": [
    {
     "name": "stdout",
     "output_type": "stream",
     "text": [
      "  ZipCode Percent_Bachelors_Or_Higher\n",
      "0   00601                        17.2\n",
      "1   00602                        23.6\n",
      "2   00603                        25.5\n",
      "3   00606                        10.9\n",
      "4   00610                        23.7\n"
     ]
    }
   ],
   "source": [
    "educational_attainment_by_zip_data = pd.read_csv(\"ACSST5Y2023.S1501-Data.csv\", skiprows=1, low_memory=False)\n",
    "rename_dict = {\n",
    "    \"Geographic Area Name\": \"ZipCode\",\n",
    "    \"Estimate!!Percent!!AGE BY EDUCATIONAL ATTAINMENT!!Population 25 years and over!!Bachelor's degree or higher\": \"Percent_Bachelors_Or_Higher\",\n",
    "}\n",
    "\n",
    "# Keep only relevant columns\n",
    "relevant_columns = list(rename_dict.keys())\n",
    "educational_data_cleaned = educational_attainment_by_zip_data[relevant_columns].copy()\n",
    "educational_data_cleaned.rename(columns=rename_dict, inplace=True)\n",
    "\n",
    "educational_data_cleaned[\"ZipCode\"] = educational_data_cleaned[\"ZipCode\"].str[-5:]\n",
    "\n",
    "# Preview the cleaned dataset\n",
    "print(educational_data_cleaned.head())"
   ]
  },
  {
   "cell_type": "markdown",
   "id": "d6d2a0b4",
   "metadata": {},
   "source": [
    "Household income data is cleaned and used to calculate a weighted median income for each zip code. This helps in assessing housing affordability and market dynamics."
   ]
  },
  {
   "cell_type": "code",
   "execution_count": 12,
   "id": "5088657a",
   "metadata": {},
   "outputs": [],
   "source": [
    "# Load the ACS income data\n",
    "income_data = pd.read_csv(\"ACSDT5Y2020.B19001-Data.csv\", skiprows=1)\n",
    "\n",
    "# Drop irrelevant or empty columns\n",
    "income_data = income_data.dropna(axis=1, how='all')  # Drop entirely empty columns\n",
    "\n",
    "# Create a dictionary to rename the columns\n",
    "rename_dict = {\n",
    "    \"Geography\": \"Geography\",\n",
    "    \"Geographic Area Name\": \"ZipCode\",\n",
    "    \"Estimate!!Total:\": \"Total_Households\",\n",
    "    \"Margin of Error!!Total:\": \"MOE_Total\",\n",
    "    \"Estimate!!Total:!!Less than $10,000\": \"Income_Less_10k\",\n",
    "    \"Margin of Error!!Total:!!Less than $10,000\": \"MOE_Income_Less_10k\",\n",
    "    \"Estimate!!Total:!!$10,000 to $14,999\": \"Income_10k_14k\",\n",
    "    \"Margin of Error!!Total:!!$10,000 to $14,999\": \"MOE_Income_10k_14k\",\n",
    "    \"Estimate!!Total:!!$15,000 to $19,999\": \"Income_15k_19k\",\n",
    "    \"Margin of Error!!Total:!!$15,000 to $19,999\": \"MOE_Income_15k_19k\",\n",
    "    \"Estimate!!Total:!!$20,000 to $24,999\": \"Income_20k_24k\",\n",
    "    \"Margin of Error!!Total:!!$20,000 to $24,999\": \"MOE_Income_20k_24k\",\n",
    "    \"Estimate!!Total:!!$25,000 to $29,999\": \"Income_25k_29k\",\n",
    "    \"Margin of Error!!Total:!!$25,000 to $29,999\": \"MOE_Income_25k_29k\",\n",
    "    \"Estimate!!Total:!!$30,000 to $34,999\": \"Income_30k_34k\",\n",
    "    \"Margin of Error!!Total:!!$30,000 to $34,999\": \"MOE_Income_30k_34k\",\n",
    "    \"Estimate!!Total:!!$35,000 to $39,999\": \"Income_35k_39k\",\n",
    "    \"Margin of Error!!Total:!!$35,000 to $39,999\": \"MOE_Income_35k_39k\",\n",
    "    \"Estimate!!Total:!!$40,000 to $44,999\": \"Income_40k_44k\",\n",
    "    \"Margin of Error!!Total:!!$40,000 to $44,999\": \"MOE_Income_40k_44k\",\n",
    "    \"Estimate!!Total:!!$45,000 to $49,999\": \"Income_45k_49k\",\n",
    "    \"Margin of Error!!Total:!!$45,000 to $49,999\": \"MOE_Income_45k_49k\",\n",
    "    \"Estimate!!Total:!!$50,000 to $59,999\": \"Income_50k_59k\",\n",
    "    \"Margin of Error!!Total:!!$50,000 to $59,999\": \"MOE_Income_50k_59k\",\n",
    "    \"Estimate!!Total:!!$60,000 to $74,999\": \"Income_60k_74k\",\n",
    "    \"Margin of Error!!Total:!!$60,000 to $74,999\": \"MOE_Income_60k_74k\",\n",
    "    \"Estimate!!Total:!!$75,000 to $99,999\": \"Income_75k_99k\",\n",
    "    \"Margin of Error!!Total:!!$75,000 to $99,999\": \"MOE_Income_75k_99k\",\n",
    "    \"Estimate!!Total:!!$100,000 to $124,999\": \"Income_100k_124k\",\n",
    "    \"Margin of Error!!Total:!!$100,000 to $124,999\": \"MOE_Income_100k_124k\",\n",
    "    \"Estimate!!Total:!!$125,000 to $149,999\": \"Income_125k_149k\",\n",
    "    \"Margin of Error!!Total:!!$125,000 to $149,999\": \"MOE_Income_125k_149k\",\n",
    "    \"Estimate!!Total:!!$150,000 to $199,999\": \"Income_150k_199k\",\n",
    "    \"Margin of Error!!Total:!!$150,000 to $199,999\": \"MOE_Income_150k_199k\",\n",
    "    \"Estimate!!Total:!!$200,000 or more\": \"Income_200k_or_more\",\n",
    "    \"Margin of Error!!Total:!!$200,000 or more\": \"MOE_Income_200k_or_more\",\n",
    "}\n",
    "\n",
    "income_data.rename(columns=rename_dict, inplace=True)\n",
    "income_data[\"ZipCode\"] = income_data[\"ZipCode\"].str[-5:]"
   ]
  },
  {
   "cell_type": "code",
   "execution_count": 13,
   "id": "f9fb0372",
   "metadata": {},
   "outputs": [
    {
     "name": "stdout",
     "output_type": "stream",
     "text": [
      "        Geography ZipCode  Total_Households  Median_Income\n",
      "0  8600000US00601   00601              5555   19612.511251\n",
      "1  8600000US00602   00602             12901   26227.618014\n",
      "2  8600000US00603   00603             19431   26906.618290\n",
      "3  8600000US00606   00606              1983   18925.869894\n",
      "4  8600000US00610   00610              8864   27739.733755\n"
     ]
    }
   ],
   "source": [
    "# Update the income ranges with the new column names\n",
    "income_ranges = {\n",
    "    \"Income_Less_10k\": 5000,\n",
    "    \"Income_10k_14k\": 12500,\n",
    "    \"Income_15k_19k\": 17500,\n",
    "    \"Income_20k_24k\": 22500,\n",
    "    \"Income_25k_29k\": 27500,\n",
    "    \"Income_30k_34k\": 32500,\n",
    "    \"Income_35k_39k\": 37500,\n",
    "    \"Income_40k_44k\": 42500,\n",
    "    \"Income_45k_49k\": 47500,\n",
    "    \"Income_50k_59k\": 55000,\n",
    "    \"Income_60k_74k\": 67500,\n",
    "    \"Income_75k_99k\": 87500,\n",
    "    \"Income_100k_124k\": 112500,\n",
    "    \"Income_125k_149k\": 137500,\n",
    "    \"Income_150k_199k\": 175000,\n",
    "    \"Income_200k_or_more\": 200000,\n",
    "}\n",
    "\n",
    "# Calculate weighted median income using the renamed columns\n",
    "income_data[\"Median_Income\"] = sum(\n",
    "    income_data[col] * midpoint for col, midpoint in income_ranges.items()\n",
    ") / income_data[\"Total_Households\"]\n",
    "\n",
    "most_expensive_zip_codes = income_data[income_data[\"Total_Households\"] >= 150].sort_values(by='Median_Income', ascending=False)\n",
    "\n",
    "# Preview the updated DataFrame\n",
    "print(income_data[[\"Geography\", \"ZipCode\", \"Total_Households\", \"Median_Income\"]].head())"
   ]
  },
  {
   "cell_type": "markdown",
   "id": "4e174d93",
   "metadata": {},
   "source": [
    "## Exploratory Data Analysis (EDA)"
   ]
  },
  {
   "cell_type": "markdown",
   "id": "d172167b",
   "metadata": {},
   "source": [
    "All datasets are loaded into a SQLite database to facilitate querying and combining the data for exploratory analysis. This enables efficient data manipulation and ensures reproducibility."
   ]
  },
  {
   "cell_type": "code",
   "execution_count": 14,
   "id": "da671d19",
   "metadata": {},
   "outputs": [],
   "source": [
    "# Create or connect to the SQLite database\n",
    "conn = sqlite3.connect(\"real_estate.db\")\n",
    "\n",
    "# Load data into the database\n",
    "median_property_prices_by_zip_data.to_sql(\"property\", conn, if_exists=\"replace\", index=False)\n",
    "\n",
    "median_rent_prices_by_zip_data.to_sql(\"rent\", conn, if_exists=\"replace\", index=False)\n",
    "\n",
    "income_data.to_sql(\"income\", conn, if_exists=\"replace\", index=False)\n",
    "\n",
    "median_age_by_zip_data.to_sql(\"median_age\", conn, if_exists=\"replace\", index=False)\n",
    "\n",
    "homeownership_rate_by_zip_data.to_sql(\"homeownership_rate\", conn, if_exists=\"replace\", index=False)\n",
    "\n",
    "employment_rate_by_zip_data.to_sql(\"employment_rate\", conn, if_exists=\"replace\", index=False)\n",
    "\n",
    "educational_data_cleaned.to_sql(\"educational_attainment\", conn, if_exists=\"replace\", index=False)\n",
    "\n",
    "population_data.to_sql(\"population\", conn, if_exists=\"replace\", index=False)"
   ]
  },
  {
   "cell_type": "markdown",
   "id": "43a6116b",
   "metadata": {},
   "source": [
    "A few rows from each table are previewed to confirm successful data import and verify data structure. This step ensures the data is ready for deeper analysis."
   ]
  },
  {
   "cell_type": "code",
   "execution_count": 15,
   "id": "19ed075a",
   "metadata": {},
   "outputs": [
    {
     "name": "stdout",
     "output_type": "stream",
     "text": [
      "Property Table Preview:\n",
      "   RegionID  SizeRank ZipCode RegionType StateName State      City  \\\n",
      "0     91982         1   77494        zip        TX    TX      Katy   \n",
      "1     91940         3   77449        zip        TX    TX      Katy   \n",
      "2     62080         4   11368        zip        NY    NY  New York   \n",
      "3     91733         5   77084        zip        TX    TX   Houston   \n",
      "4     93144         6   79936        zip        TX    TX   El Paso   \n",
      "\n",
      "                                   Metro        CountyName     2000-01-31  \\\n",
      "0   Houston-The Woodlands-Sugar Land, TX  Fort Bend County  209435.722919   \n",
      "1   Houston-The Woodlands-Sugar Land, TX     Harris County  103309.568185   \n",
      "2  New York-Newark-Jersey City, NY-NJ-PA     Queens County  146620.762685   \n",
      "3   Houston-The Woodlands-Sugar Land, TX     Harris County  102097.232364   \n",
      "4                            El Paso, TX    El Paso County   89357.341986   \n",
      "\n",
      "   ...     2024-02-29     2024-03-31     2024-04-30     2024-05-31  \\\n",
      "0  ...  489365.253578  492166.825816  494678.731700  495987.757622   \n",
      "1  ...  278622.817454  279716.353014  280673.170893  281205.329653   \n",
      "2  ...  441650.612629  444681.142324  449148.058674  453726.123892   \n",
      "3  ...  272100.033397  273098.100629  274086.666624  274587.298531   \n",
      "4  ...  207082.791903  208805.496761  210192.454844  211300.679857   \n",
      "\n",
      "      2024-06-30     2024-07-31     2024-08-31     2024-09-30     2024-10-31  \\\n",
      "0  496293.308389  495915.193633  496321.519658  497010.530581  498131.448878   \n",
      "1  281165.720976  280932.112918  280751.015330  280563.448917  280148.257727   \n",
      "2  454422.033679  453917.938384  453291.286418  454241.711036  453996.060838   \n",
      "3  274421.035703  274129.515215  273857.629843  273605.449015  273100.007771   \n",
      "4  211810.068895  212030.628027  212192.178988  212455.640482  212643.851083   \n",
      "\n",
      "      2024-11-30  \n",
      "0  498848.926717  \n",
      "1  279363.378052  \n",
      "2  452781.826534  \n",
      "3  272503.113850  \n",
      "4  212798.677648  \n",
      "\n",
      "[5 rows x 308 columns]\n",
      "Rent Table Preview:\n",
      "   RegionID  SizeRank ZipCode RegionType StateName State          City  \\\n",
      "0     91982         1   77494        zip        TX    TX          Katy   \n",
      "1     91940         3   77449        zip        TX    TX          Katy   \n",
      "2     91733         5   77084        zip        TX    TX       Houston   \n",
      "3     62093         7   11385        zip        NY    NY      New York   \n",
      "4     92593         8   78660        zip        TX    TX  Pflugerville   \n",
      "\n",
      "                                   Metro        CountyName   2015-01-31  ...  \\\n",
      "0   Houston-The Woodlands-Sugar Land, TX  Fort Bend County  1519.616063  ...   \n",
      "1   Houston-The Woodlands-Sugar Land, TX     Harris County  1279.883137  ...   \n",
      "2   Houston-The Woodlands-Sugar Land, TX     Harris County  1261.850008  ...   \n",
      "3  New York-Newark-Jersey City, NY-NJ-PA     Queens County          NaN  ...   \n",
      "4       Austin-Round Rock-Georgetown, TX     Travis County  1232.798160  ...   \n",
      "\n",
      "    2024-02-29   2024-03-31   2024-04-30   2024-05-31   2024-06-30  \\\n",
      "0  1910.432747  1914.355364  1931.007314  1927.534722  1929.536796   \n",
      "1  1839.756552  1841.545951  1841.979741  1844.524906  1846.854582   \n",
      "2  1828.449797  1831.799751  1844.545646  1845.792405  1845.994618   \n",
      "3  2954.636774  2980.829978  2974.427414  2982.750456  2975.817522   \n",
      "4  1810.199986  1816.256207  1811.063320  1807.668686  1800.182532   \n",
      "\n",
      "    2024-07-31   2024-08-31   2024-09-30   2024-10-31   2024-11-30  \n",
      "0  1926.265470  1932.193565  1931.549893  1931.921991  1942.930937  \n",
      "1  1852.154547  1849.478524  1847.513761  1850.508375  1858.195987  \n",
      "2  1849.653111  1854.026645  1863.472921  1861.649457  1862.722469  \n",
      "3  2999.124274  2990.692977  2976.092301  2958.413011  2950.543350  \n",
      "4  1797.869590  1790.469347  1787.951495  1785.228200  1790.600096  \n",
      "\n",
      "[5 rows x 128 columns]\n",
      "Income Table Preview:\n",
      "        Geography ZipCode  Total_Households  MOE_Total  Income_Less_10k  \\\n",
      "0  8600000US00601   00601              5555        255             1977   \n",
      "1  8600000US00602   00602             12901        432             3698   \n",
      "2  8600000US00603   00603             19431        496             6984   \n",
      "3  8600000US00606   00606              1983        181              737   \n",
      "4  8600000US00610   00610              8864        348             2116   \n",
      "\n",
      "   MOE_Income_Less_10k  Income_10k_14k  MOE_Income_10k_14k  Income_15k_19k  \\\n",
      "0                  266             913                 178             710   \n",
      "1                  374            2124                 364            1454   \n",
      "2                  507            2397                 323            1846   \n",
      "3                  147             255                  84             228   \n",
      "4                  305            1242                 249            1042   \n",
      "\n",
      "   MOE_Income_15k_19k  ...  MOE_Income_75k_99k  Income_100k_124k  \\\n",
      "0                 170  ...                  19                29   \n",
      "1                 268  ...                 171               183   \n",
      "2                 307  ...                 207               289   \n",
      "3                  90  ...                  20                 0   \n",
      "4                 216  ...                  98               137   \n",
      "\n",
      "   MOE_Income_100k_124k  Income_125k_149k  MOE_Income_125k_149k  \\\n",
      "0                    37                 0                    23   \n",
      "1                   107                55                    58   \n",
      "2                   120               194                   105   \n",
      "3                    20                 0                    20   \n",
      "4                    88                35                    41   \n",
      "\n",
      "   Income_150k_199k  MOE_Income_150k_199k  Income_200k_or_more  \\\n",
      "0                20                    33                    0   \n",
      "1               117                    77                    0   \n",
      "2                73                    65                  106   \n",
      "3                 0                    20                    0   \n",
      "4                33                    51                   49   \n",
      "\n",
      "   MOE_Income_200k_or_more  Median_Income  \n",
      "0                       23   19612.511251  \n",
      "1                       30   26227.618014  \n",
      "2                       66   26906.618290  \n",
      "3                       20   18925.869894  \n",
      "4                       47   27739.733755  \n",
      "\n",
      "[5 rows x 37 columns]\n",
      "Median Age Table Preview:\n",
      "  ZipCode  Median_Age_Approx  Total_Population\n",
      "0   00601          43.439208             16721\n",
      "1   00602          44.500000             37510\n",
      "2   00603          44.421715             48317\n",
      "3   00606          46.652254              5435\n",
      "4   00610          44.118010             25413\n",
      "Homeownership Rate Table Preview:\n",
      "  ZipCode  Total_Housing_Units  Occupied_Units  Vacant_Units  \\\n",
      "0   00601                 7356            5611          1745   \n",
      "1   00602                17210           12546          4664   \n",
      "2   00603                25262           19537          5725   \n",
      "3   00606                 2685            1871           814   \n",
      "4   00610                12174            8838          3336   \n",
      "\n",
      "  Homeowner_Vacancy_Rate Rental_Vacancy_Rate GRAPI_20_24_Percent  \\\n",
      "0                    0.4                 2.6                14.0   \n",
      "1                    0.3                12.4                15.2   \n",
      "2                    1.1                 2.7                10.4   \n",
      "3                    1.8                 0.0                 5.4   \n",
      "4                    0.2                 8.0                11.5   \n",
      "\n",
      "  GRAPI_25_29_Percent GRAPI_30_34_Percent GRAPI_35_Plus_Percent  \n",
      "0                11.1                10.7                  36.9  \n",
      "1                 9.1                11.3                  33.2  \n",
      "2                18.6                 8.6                  35.5  \n",
      "3                 0.0                 9.5                  23.6  \n",
      "4                 5.9                12.3                  34.7  \n",
      "Employment Rate Table Preview:\n",
      "        Geography ZipCode  Population_16_and_Over  In_Labor_Force  Employed  \\\n",
      "0  860Z200US00601   00601                   14106            6059      4758   \n",
      "1  860Z200US00602   00602                   32600           12328     11572   \n",
      "2  860Z200US00603   00603                   41422           16358     13543   \n",
      "3  860Z200US00606   00606                    4665            1414      1414   \n",
      "4  860Z200US00610   00610                   22100            9876      9251   \n",
      "\n",
      "   Employment_Rate  Unemployment_Rate  \n",
      "0         0.337303           0.214722  \n",
      "1         0.354969           0.061324  \n",
      "2         0.326952           0.172087  \n",
      "3         0.303108           0.000000  \n",
      "4         0.418597           0.063285  \n",
      "Educational Attainment Table Preview:\n",
      "  ZipCode Percent_Bachelors_Or_Higher\n",
      "0   00601                        17.2\n",
      "1   00602                        23.6\n",
      "2   00603                        25.5\n",
      "3   00606                        10.9\n",
      "4   00610                        23.7\n",
      "Population Table Preview:\n",
      "  ZipCode  Total_Population_2010  Total_Population_2020  Growth_Percentage\n",
      "0   00601                  18570                  17242          -7.151319\n",
      "1   00602                  41520                  37548          -9.566474\n",
      "2   00603                  54689                  49804          -8.932326\n",
      "3   00606                   6615                   5009         -24.278156\n",
      "4   00610                  29016                  25731         -11.321340\n"
     ]
    }
   ],
   "source": [
    "# Query the database to verify the tables\n",
    "query_property = \"SELECT * FROM property LIMIT 5;\"\n",
    "query_rent = \"SELECT * FROM rent LIMIT 5;\"\n",
    "query_income = \"SELECT * FROM income LIMIT 5;\"\n",
    "query_median_age = \"SELECT * from median_age LIMIT 5;\"\n",
    "query_homeownership_rate = \"SELECT * from homeownership_rate LIMIT 5;\"\n",
    "query_employment_rate = \"SELECT * from employment_rate LIMIT 5;\"\n",
    "query_educational_attainment = \"SELECT * from educational_attainment LIMIT 5;\"\n",
    "query_population = \"SELECT * from population LIMIT 5;\"\n",
    "\n",
    "property_preview = pd.read_sql_query(query_property, conn)\n",
    "rent_preview = pd.read_sql_query(query_rent, conn)\n",
    "income_preview = pd.read_sql_query(query_income, conn)\n",
    "median_age_preview = pd.read_sql_query(query_median_age, conn)\n",
    "homeownership_rate_preview = pd.read_sql_query(query_homeownership_rate, conn)\n",
    "employment_rate_preview = pd.read_sql_query(query_employment_rate, conn)\n",
    "educational_attainment_preview = pd.read_sql_query(query_educational_attainment, conn)\n",
    "population_preview = pd.read_sql_query(query_population, conn)\n",
    "\n",
    "print(\"Property Table Preview:\")\n",
    "print(property_preview)\n",
    "\n",
    "print(\"Rent Table Preview:\")\n",
    "print(rent_preview)\n",
    "\n",
    "print(\"Income Table Preview:\")\n",
    "print(income_preview)\n",
    "\n",
    "print(\"Median Age Table Preview:\")\n",
    "print(median_age_preview)\n",
    "\n",
    "print(\"Homeownership Rate Table Preview:\")\n",
    "print(homeownership_rate_preview)\n",
    "\n",
    "print(\"Employment Rate Table Preview:\")\n",
    "print(employment_rate_preview)\n",
    "\n",
    "print(\"Educational Attainment Table Preview:\")\n",
    "print(educational_attainment_preview)\n",
    "\n",
    "print(\"Population Table Preview:\")\n",
    "print(population_preview)\n"
   ]
  },
  {
   "cell_type": "markdown",
   "id": "7c179e8c",
   "metadata": {},
   "source": [
    "Property prices and rent prices are merged using ```ZipCode```. A new column, ```Price_to_Rent_Ratio```, is calculated to compare the cost of buying versus renting. The \"1% rule\" is used to flag zip codes where rent is at least 1% of the property price, a common benchmark for evaluating rental property investment potential."
   ]
  },
  {
   "cell_type": "code",
   "execution_count": 16,
   "id": "10d967a1",
   "metadata": {},
   "outputs": [
    {
     "name": "stdout",
     "output_type": "stream",
     "text": [
      "Merged Data Preview:\n",
      "  ZipCode State          City  Property_Oct_2024  Rent_Oct_2024\n",
      "0   77494    TX          Katy      498131.448878    1931.921991\n",
      "1   77449    TX          Katy      280148.257727    1850.508375\n",
      "2   77084    TX       Houston      273100.007771    1861.649457\n",
      "3   11385    NY      New York      806079.048494    2958.413011\n",
      "4   78660    TX  Pflugerville      394531.913776    1785.228200\n"
     ]
    }
   ],
   "source": [
    "# Join the datasets on zip code\n",
    "query_merge = \"\"\"\n",
    "SELECT \n",
    "    property.ZipCode,\n",
    "    property.State,\n",
    "    property.City,\n",
    "    property.\"2024-10-31\" AS Property_Oct_2024,\n",
    "    rent.\"2024-10-31\" AS Rent_Oct_2024\n",
    "FROM property\n",
    "JOIN rent ON property.ZipCode = rent.ZipCode\n",
    "WHERE property.\"2024-10-31\" IS NOT NULL AND rent.\"2024-10-31\" IS NOT NULL;\n",
    "\"\"\"\n",
    "\n",
    "merged_data = pd.read_sql_query(query_merge, conn)\n",
    "\n",
    "print(\"Merged Data Preview:\")\n",
    "print(merged_data.head())"
   ]
  },
  {
   "cell_type": "code",
   "execution_count": 17,
   "id": "f4afba4c",
   "metadata": {},
   "outputs": [
    {
     "name": "stdout",
     "output_type": "stream",
     "text": [
      "     ZipCode State          City  Property_Oct_2024  Rent_Oct_2024  \\\n",
      "0      77494    TX          Katy       4.981314e+05    1931.921991   \n",
      "1      77449    TX          Katy       2.801483e+05    1850.508375   \n",
      "2      77084    TX       Houston       2.731000e+05    1861.649457   \n",
      "3      11385    NY      New York       8.060790e+05    2958.413011   \n",
      "4      78660    TX  Pflugerville       3.945319e+05    1785.228200   \n",
      "...      ...   ...           ...                ...            ...   \n",
      "1798   78257    TX   San Antonio       8.633112e+05    1508.842048   \n",
      "1799   19102    PA  Philadelphia       3.616038e+05    2012.209251   \n",
      "1800   23517    VA       Norfolk       3.268836e+05    1525.423057   \n",
      "1801   20036    DC    Washington       3.847749e+05    2354.361973   \n",
      "1802   10004    NY      New York       1.184163e+06    4736.776352   \n",
      "\n",
      "      Price_to_Rent_Ratio  Meets_1_Percent_Rule  \n",
      "0                0.387834                 False  \n",
      "1                0.660546                 False  \n",
      "2                0.681673                 False  \n",
      "3                0.367013                 False  \n",
      "4                0.452493                 False  \n",
      "...                   ...                   ...  \n",
      "1798             0.174774                 False  \n",
      "1799             0.556468                 False  \n",
      "1800             0.466656                 False  \n",
      "1801             0.611880                 False  \n",
      "1802             0.400010                 False  \n",
      "\n",
      "[1803 rows x 7 columns]\n"
     ]
    }
   ],
   "source": [
    "# Add a price-to-rent ratio column\n",
    "merged_data['Price_to_Rent_Ratio'] = (merged_data['Rent_Oct_2024'] / merged_data['Property_Oct_2024']) * 100\n",
    "\n",
    "# Flag zip codes that meet the 1% rule\n",
    "merged_data['Meets_1_Percent_Rule'] = merged_data['Price_to_Rent_Ratio'] >= 1\n",
    "\n",
    "# Display updated data\n",
    "print(merged_data)\n",
    "\n",
    "# Export the filtered DataFrame to a CSV file\n",
    "merged_data.to_csv(\"meets_1_percent_rule.csv\", index=False)"
   ]
  },
  {
   "cell_type": "code",
   "execution_count": 18,
   "id": "62a0989e",
   "metadata": {},
   "outputs": [
    {
     "name": "stdout",
     "output_type": "stream",
     "text": [
      "Zip Codes Meeting the 1% Rule:\n",
      "     ZipCode State          City  Property_Oct_2024  Rent_Oct_2024  \\\n",
      "64     10462    NY      New York       2.172811e+05    2270.514377   \n",
      "193    19143    PA  Philadelphia       1.301545e+05    1434.025872   \n",
      "211    33313    FL    Lauderhill       1.743870e+05    2071.509032   \n",
      "277    19134    PA  Philadelphia       1.083380e+05    1372.075619   \n",
      "651    19131    PA  Philadelphia       1.372230e+05    1770.571973   \n",
      "669    19139    PA  Philadelphia       1.152016e+05    1396.549081   \n",
      "678    63136    MO          None       7.853446e+04    1272.292300   \n",
      "741    44102    OH     Cleveland       1.179105e+05    1246.658014   \n",
      "1059   19121    PA  Philadelphia       1.675424e+05    1859.604618   \n",
      "1125   32209    FL  Jacksonville       1.082468e+05    1172.140030   \n",
      "1144   19132    PA  Philadelphia       7.051296e+04    1497.292382   \n",
      "1208   48089    MI        Warren       1.237672e+05    1315.017359   \n",
      "1231   21217    MD     Baltimore       8.650868e+04    1417.922547   \n",
      "1334   21213    MD     Baltimore       1.164651e+05    1623.038624   \n",
      "1342   46218    IN  Indianapolis       1.060447e+05    1068.148561   \n",
      "1446   15210    PA  Mount Oliver       9.837405e+04    1294.124605   \n",
      "1476   21216    MD     Baltimore       1.157068e+05    1469.603240   \n",
      "1644   11937    NY  East Hampton       1.883051e+06   35194.776979   \n",
      "1686   19801    DE    Wilmington       1.575658e+05    1668.667631   \n",
      "1698   45219    OH    Cincinnati       2.532136e+05    2662.571487   \n",
      "1715   35206    AL    Birmingham       9.736048e+04    1126.311531   \n",
      "1779   11968    NY   Southampton       2.004034e+06   45275.932631   \n",
      "\n",
      "      Price_to_Rent_Ratio  Meets_1_Percent_Rule  \n",
      "64               1.044966                  True  \n",
      "193              1.101787                  True  \n",
      "211              1.187880                  True  \n",
      "277              1.266477                  True  \n",
      "651              1.290288                  True  \n",
      "669              1.212265                  True  \n",
      "678              1.620043                  True  \n",
      "741              1.057292                  True  \n",
      "1059             1.109931                  True  \n",
      "1125             1.082841                  True  \n",
      "1144             2.123429                  True  \n",
      "1208             1.062493                  True  \n",
      "1231             1.639052                  True  \n",
      "1334             1.393584                  True  \n",
      "1342             1.007263                  True  \n",
      "1446             1.315514                  True  \n",
      "1476             1.270110                  True  \n",
      "1644             1.869029                  True  \n",
      "1686             1.059029                  True  \n",
      "1698             1.051512                  True  \n",
      "1715             1.156847                  True  \n",
      "1779             2.259240                  True  \n"
     ]
    }
   ],
   "source": [
    "meets_1_percent = merged_data[merged_data['Meets_1_Percent_Rule'] == True]\n",
    "\n",
    "# Display the filtered DataFrame\n",
    "print(\"Zip Codes Meeting the 1% Rule:\")\n",
    "print(meets_1_percent)"
   ]
  },
  {
   "cell_type": "markdown",
   "id": "b222f510",
   "metadata": {},
   "source": [
    "The number of zip codes meeting the 1% rule is aggregated by state. This identifies regions where rental investments may be particularly favorable."
   ]
  },
  {
   "cell_type": "code",
   "execution_count": 19,
   "id": "98910de7",
   "metadata": {},
   "outputs": [
    {
     "name": "stdout",
     "output_type": "stream",
     "text": [
      "Number of 1% Rule Properties by State:\n",
      "  State  Count\n",
      "9    PA      7\n",
      "4    MD      3\n",
      "7    NY      3\n",
      "2    FL      2\n",
      "8    OH      2\n",
      "0    AL      1\n",
      "1    DE      1\n",
      "3    IN      1\n",
      "5    MI      1\n",
      "6    MO      1\n"
     ]
    }
   ],
   "source": [
    "# Group by state and count the number of zip codes meeting the 1% rule\n",
    "state_summary = meets_1_percent.groupby('State').size().reset_index(name='Count')\n",
    "\n",
    "# Sort the summary by count in descending order for better readability\n",
    "state_summary = state_summary.sort_values(by='Count', ascending=False)\n",
    "\n",
    "# Display the results\n",
    "print(\"Number of 1% Rule Properties by State:\")\n",
    "print(state_summary)"
   ]
  },
  {
   "cell_type": "markdown",
   "id": "0e8612e5",
   "metadata": {},
   "source": [
    "## Correlation Analysis"
   ]
  },
  {
   "cell_type": "markdown",
   "id": "72699964",
   "metadata": {},
   "source": [
    "The relationship between median income and the price-to-rent ratio is examined to identify whether housing affordability aligns with local income levels. A scatter plot visualizes the correlation."
   ]
  },
  {
   "cell_type": "code",
   "execution_count": 20,
   "id": "bf160672",
   "metadata": {},
   "outputs": [
    {
     "name": "stdout",
     "output_type": "stream",
     "text": [
      "                     Price_to_Rent_Ratio  Median_Income\n",
      "Price_to_Rent_Ratio             1.000000      -0.565711\n",
      "Median_Income                  -0.565711       1.000000\n"
     ]
    }
   ],
   "source": [
    "query = \"\"\"\n",
    "SELECT \n",
    "    property.ZipCode,\n",
    "    (rent.\"2024-10-31\" / property.\"2024-10-31\") * 100 AS Price_to_Rent_Ratio,\n",
    "    income.Median_Income\n",
    "FROM property\n",
    "JOIN rent ON property.ZipCode = rent.ZipCode\n",
    "JOIN income ON property.ZipCode = income.ZipCode;\n",
    "\"\"\"\n",
    "\n",
    "price_rent_income_data = pd.read_sql_query(query, conn)\n",
    "\n",
    "# Calculate correlation\n",
    "correlation = price_rent_income_data[['Price_to_Rent_Ratio', 'Median_Income']].corr()\n",
    "\n",
    "# Display the result\n",
    "print(correlation)"
   ]
  },
  {
   "cell_type": "code",
   "execution_count": 21,
   "id": "3e2918e1",
   "metadata": {},
   "outputs": [
    {
     "data": {
      "image/png": "[encoded data removed]",
      "text/plain": [
       "<Figure size 432x288 with 1 Axes>"
      ]
     },
     "metadata": {
      "needs_background": "light"
     },
     "output_type": "display_data"
    }
   ],
   "source": [
    "# Scatter plot\n",
    "plt.scatter(price_rent_income_data['Median_Income'], price_rent_income_data['Price_to_Rent_Ratio'])\n",
    "plt.xlabel('Median Income')\n",
    "plt.ylabel('Price to Rent Ratio')\n",
    "plt.title('Median Income vs. Price to Rent Ratio')\n",
    "plt.show()"
   ]
  },
  {
   "cell_type": "markdown",
   "id": "df64487a",
   "metadata": {},
   "source": [
    "Educational attainment's influence on housing affordability is explored. Higher education levels often correlate with economic stability and housing demand."
   ]
  },
  {
   "cell_type": "code",
   "execution_count": 22,
   "id": "ae612ad5",
   "metadata": {},
   "outputs": [
    {
     "name": "stdout",
     "output_type": "stream",
     "text": [
      "0    66.3\n",
      "1    28.4\n",
      "2    29.7\n",
      "3    34.1\n",
      "4    41.8\n",
      "Name: Percent_Bachelors_Or_Higher, dtype: float64\n",
      "float64\n",
      "0\n",
      "                             Price_to_Rent_Ratio  Percent_Bachelors_Or_Higher\n",
      "Price_to_Rent_Ratio                     1.000000                    -0.488134\n",
      "Percent_Bachelors_Or_Higher            -0.488134                     1.000000\n"
     ]
    }
   ],
   "source": [
    "query = \"\"\"\n",
    "SELECT \n",
    "    property.ZipCode,\n",
    "    property.\"2024-10-31\" AS Property_Oct_2024,\n",
    "    rent.\"2024-10-31\" AS Rent_Oct_2024,\n",
    "    educational_attainment.Percent_Bachelors_Or_Higher,\n",
    "    (rent.\"2024-10-31\" / property.\"2024-10-31\") * 100 AS Price_to_Rent_Ratio\n",
    "FROM property\n",
    "JOIN rent ON property.ZipCode = rent.ZipCode\n",
    "JOIN educational_attainment ON property.ZipCode = educational_attainment.ZipCode;\n",
    "\"\"\"\n",
    "\n",
    "price_rent_education_data = pd.read_sql_query(query, conn)\n",
    "price_rent_education_data['Percent_Bachelors_Or_Higher'] = pd.to_numeric(\n",
    "    price_rent_education_data['Percent_Bachelors_Or_Higher'], errors='coerce'\n",
    ")\n",
    "print(price_rent_education_data['Percent_Bachelors_Or_Higher'].head())\n",
    "print(price_rent_education_data['Percent_Bachelors_Or_Higher'].dtype)\n",
    "print(price_rent_education_data['Percent_Bachelors_Or_Higher'].isnull().sum())\n",
    "\n",
    "# Calculate correlation\n",
    "correlation = price_rent_education_data[['Price_to_Rent_Ratio', 'Percent_Bachelors_Or_Higher']].corr()\n",
    "\n",
    "# Display the result\n",
    "print(correlation)"
   ]
  },
  {
   "cell_type": "code",
   "execution_count": 23,
   "id": "a2dc81cf",
   "metadata": {},
   "outputs": [
    {
     "data": {
      "image/png": "[encoded data removed]",
      "text/plain": [
       "<Figure size 432x288 with 1 Axes>"
      ]
     },
     "metadata": {
      "needs_background": "light"
     },
     "output_type": "display_data"
    }
   ],
   "source": [
    "plt.scatter(price_rent_education_data['Percent_Bachelors_Or_Higher'], price_rent_education_data['Price_to_Rent_Ratio'])\n",
    "plt.xlabel('Percent Bachelors or Higher')\n",
    "plt.ylabel('Price to Rent Ratio')\n",
    "plt.title('Educational Attainment vs. Price to Rent Ratio')\n",
    "plt.show()"
   ]
  },
  {
   "cell_type": "markdown",
   "id": "0b149e7f",
   "metadata": {},
   "source": [
    "The relationship between employment metrics (employment and unemployment rates) and the price-to-rent ratio is analyzed. This shows how labor market conditions impact housing affordability and demand."
   ]
  },
  {
   "cell_type": "code",
   "execution_count": 24,
   "id": "ad2f83c6",
   "metadata": {},
   "outputs": [
    {
     "name": "stdout",
     "output_type": "stream",
     "text": [
      "                     Price_to_Rent_Ratio  Employment_Rate  Unemployment_Rate\n",
      "Price_to_Rent_Ratio             1.000000        -0.249318           0.232198\n",
      "Employment_Rate                -0.249318         1.000000          -0.477555\n",
      "Unemployment_Rate               0.232198        -0.477555           1.000000\n"
     ]
    }
   ],
   "source": [
    "query = \"\"\"\n",
    "SELECT \n",
    "    property.ZipCode,\n",
    "    (rent.\"2024-10-31\" / property.\"2024-10-31\") * 100 AS Price_to_Rent_Ratio,\n",
    "    employment_rate.Employment_Rate,\n",
    "    employment_rate.Unemployment_Rate\n",
    "FROM property\n",
    "JOIN rent ON property.ZipCode = rent.ZipCode\n",
    "JOIN employment_rate ON property.ZipCode = employment_rate.ZipCode;\n",
    "\"\"\"\n",
    "\n",
    "price_rent_employment_data = pd.read_sql_query(query, conn)\n",
    "\n",
    "# Calculate correlation\n",
    "correlation = price_rent_employment_data[['Price_to_Rent_Ratio', 'Employment_Rate', 'Unemployment_Rate']].corr()\n",
    "\n",
    "# Display the result\n",
    "print(correlation)"
   ]
  },
  {
   "cell_type": "code",
   "execution_count": 25,
   "id": "58c69865",
   "metadata": {},
   "outputs": [
    {
     "data": {
      "image/png": "[encoded data removed]",
      "text/plain": [
       "<Figure size 432x288 with 1 Axes>"
      ]
     },
     "metadata": {
      "needs_background": "light"
     },
     "output_type": "display_data"
    },
    {
     "data": {
      "image/png": "[encoded data removed]",
      "text/plain": [
       "<Figure size 432x288 with 1 Axes>"
      ]
     },
     "metadata": {
      "needs_background": "light"
     },
     "output_type": "display_data"
    }
   ],
   "source": [
    "# Scatter plot for Price-to-Rent Ratio vs. Employment Rate\n",
    "plt.scatter(price_rent_employment_data['Employment_Rate'], price_rent_employment_data['Price_to_Rent_Ratio'])\n",
    "plt.xlabel('Employment Rate')\n",
    "plt.ylabel('Price to Rent Ratio')\n",
    "plt.title('Employment Rate vs. Price to Rent Ratio')\n",
    "plt.show()\n",
    "\n",
    "# Scatter plot for Price-to-Rent Ratio vs. Unemployment Rate\n",
    "plt.scatter(price_rent_employment_data['Unemployment_Rate'], price_rent_employment_data['Price_to_Rent_Ratio'])\n",
    "plt.xlabel('Unemployment Rate')\n",
    "plt.ylabel('Price to Rent Ratio')\n",
    "plt.title('Unemployment Rate vs. Price to Rent Ratio')\n",
    "plt.show()"
   ]
  },
  {
   "cell_type": "markdown",
   "id": "78f6fdf4",
   "metadata": {},
   "source": [
    "The correlation between median age and the price-to-rent ratio is calculated. This helps assess whether age demographics influence housing market trends."
   ]
  },
  {
   "cell_type": "code",
   "execution_count": 26,
   "id": "053fe1c2",
   "metadata": {},
   "outputs": [
    {
     "name": "stdout",
     "output_type": "stream",
     "text": [
      "                     Price_to_Rent_Ratio  Median_Age_Approx\n",
      "Price_to_Rent_Ratio             1.000000          -0.153717\n",
      "Median_Age_Approx              -0.153717           1.000000\n"
     ]
    }
   ],
   "source": [
    "query = \"\"\"\n",
    "SELECT \n",
    "    property.ZipCode,\n",
    "    (rent.\"2024-10-31\" / property.\"2024-10-31\") * 100 AS Price_to_Rent_Ratio,\n",
    "    median_age.Median_Age_Approx\n",
    "FROM property\n",
    "JOIN rent ON property.ZipCode = rent.ZipCode\n",
    "JOIN median_age ON property.ZipCode = median_age.ZipCode;\n",
    "\"\"\"\n",
    "\n",
    "price_rent_median_age_data = pd.read_sql_query(query, conn)\n",
    "\n",
    "# Calculate correlation\n",
    "correlation = price_rent_median_age_data[['Price_to_Rent_Ratio', 'Median_Age_Approx']].corr()\n",
    "\n",
    "# Display the result\n",
    "print(correlation)"
   ]
  },
  {
   "cell_type": "code",
   "execution_count": 27,
   "id": "9121fdd8",
   "metadata": {},
   "outputs": [
    {
     "data": {
      "image/png": "[encoded data removed]",
      "text/plain": [
       "<Figure size 432x288 with 1 Axes>"
      ]
     },
     "metadata": {
      "needs_background": "light"
     },
     "output_type": "display_data"
    }
   ],
   "source": [
    "plt.scatter(price_rent_median_age_data['Median_Age_Approx'], price_rent_median_age_data['Price_to_Rent_Ratio'])\n",
    "plt.xlabel('Median Age')\n",
    "plt.ylabel('Price to Rent Ratio')\n",
    "plt.title('Median Age vs. Price to Rent Ratio')\n",
    "plt.show()"
   ]
  },
  {
   "cell_type": "markdown",
   "id": "07e4ad08",
   "metadata": {},
   "source": [
    "Homeownership and rental vacancy rates are analyzed in relation to the price-to-rent ratio. This provides insights into supply-side housing market dynamics."
   ]
  },
  {
   "cell_type": "code",
   "execution_count": 28,
   "id": "0b348a23",
   "metadata": {},
   "outputs": [
    {
     "name": "stdout",
     "output_type": "stream",
     "text": [
      "                        Price_to_Rent_Ratio  Homeowner_Vacancy_Rate  \\\n",
      "Price_to_Rent_Ratio                1.000000                0.129016   \n",
      "Homeowner_Vacancy_Rate             0.129016                1.000000   \n",
      "Rental_Vacancy_Rate                0.071999                0.243168   \n",
      "GRAPI_20_24_Percent               -0.118016               -0.094174   \n",
      "GRAPI_25_29_Percent               -0.051608               -0.063714   \n",
      "GRAPI_30_34_Percent               -0.020966               -0.009159   \n",
      "GRAPI_35_Plus_Percent              0.234337                0.065557   \n",
      "\n",
      "                        Rental_Vacancy_Rate  GRAPI_20_24_Percent  \\\n",
      "Price_to_Rent_Ratio                0.071999            -0.118016   \n",
      "Homeowner_Vacancy_Rate             0.243168            -0.094174   \n",
      "Rental_Vacancy_Rate                1.000000            -0.045690   \n",
      "GRAPI_20_24_Percent               -0.045690             1.000000   \n",
      "GRAPI_25_29_Percent               -0.045218             0.040964   \n",
      "GRAPI_30_34_Percent               -0.028313            -0.061824   \n",
      "GRAPI_35_Plus_Percent              0.049648            -0.547490   \n",
      "\n",
      "                        GRAPI_25_29_Percent  GRAPI_30_34_Percent  \\\n",
      "Price_to_Rent_Ratio               -0.051608            -0.020966   \n",
      "Homeowner_Vacancy_Rate            -0.063714            -0.009159   \n",
      "Rental_Vacancy_Rate               -0.045218            -0.028313   \n",
      "GRAPI_20_24_Percent                0.040964            -0.061824   \n",
      "GRAPI_25_29_Percent                1.000000             0.016435   \n",
      "GRAPI_30_34_Percent                0.016435             1.000000   \n",
      "GRAPI_35_Plus_Percent             -0.307043            -0.090816   \n",
      "\n",
      "                        GRAPI_35_Plus_Percent  \n",
      "Price_to_Rent_Ratio                  0.234337  \n",
      "Homeowner_Vacancy_Rate               0.065557  \n",
      "Rental_Vacancy_Rate                  0.049648  \n",
      "GRAPI_20_24_Percent                 -0.547490  \n",
      "GRAPI_25_29_Percent                 -0.307043  \n",
      "GRAPI_30_34_Percent                 -0.090816  \n",
      "GRAPI_35_Plus_Percent                1.000000  \n"
     ]
    }
   ],
   "source": [
    "query = \"\"\"\n",
    "SELECT \n",
    "    property.ZipCode,\n",
    "    (rent.\"2024-10-31\" / property.\"2024-10-31\") * 100 AS Price_to_Rent_Ratio,\n",
    "    homeownership_rate.Homeowner_Vacancy_Rate,\n",
    "    homeownership_rate.Rental_Vacancy_Rate,\n",
    "    homeownership_rate.GRAPI_20_24_Percent,\n",
    "    homeownership_rate.GRAPI_25_29_Percent,\n",
    "    homeownership_rate.GRAPI_30_34_Percent,\n",
    "    homeownership_rate.GRAPI_35_Plus_Percent\n",
    "FROM property\n",
    "JOIN rent ON property.ZipCode = rent.ZipCode\n",
    "JOIN homeownership_rate ON property.ZipCode = homeownership_rate.ZipCode;\n",
    "\"\"\"\n",
    "\n",
    "price_rent_vacancy_data = pd.read_sql_query(query, conn)\n",
    "\n",
    "\n",
    "# Convert specified columns to numeric\n",
    "price_rent_vacancy_data[['Homeowner_Vacancy_Rate', 'Rental_Vacancy_Rate', \n",
    "                         'GRAPI_20_24_Percent', 'GRAPI_25_29_Percent', \n",
    "                         'GRAPI_30_34_Percent', 'GRAPI_35_Plus_Percent']] = price_rent_vacancy_data[\n",
    "    ['Homeowner_Vacancy_Rate', 'Rental_Vacancy_Rate', \n",
    "     'GRAPI_20_24_Percent', 'GRAPI_25_29_Percent', \n",
    "     'GRAPI_30_34_Percent', 'GRAPI_35_Plus_Percent']\n",
    "].apply(pd.to_numeric, errors='coerce')\n",
    "\n",
    "# Calculate correlation\n",
    "correlation = price_rent_vacancy_data[['Price_to_Rent_Ratio', 'Homeowner_Vacancy_Rate', 'Rental_Vacancy_Rate', \n",
    "                                       'GRAPI_20_24_Percent', 'GRAPI_25_29_Percent', 'GRAPI_30_34_Percent', 'GRAPI_35_Plus_Percent' ]].corr()\n",
    "\n",
    "# Display the result\n",
    "print(correlation)"
   ]
  },
  {
   "cell_type": "markdown",
   "id": "dbacec14",
   "metadata": {},
   "source": [
    "Population growth rates are evaluated alongside housing affordability metrics to identify areas with both demographic growth and favorable housing conditions."
   ]
  },
  {
   "cell_type": "code",
   "execution_count": 29,
   "id": "2915f5a4",
   "metadata": {},
   "outputs": [
    {
     "name": "stdout",
     "output_type": "stream",
     "text": [
      "                       Price_to_Rent_Ratio  Total_Population_2020  \\\n",
      "Price_to_Rent_Ratio               1.000000              -0.013713   \n",
      "Total_Population_2020            -0.013713               1.000000   \n",
      "Growth_Percentage                -0.043727               0.042300   \n",
      "\n",
      "                       Growth_Percentage  \n",
      "Price_to_Rent_Ratio            -0.043727  \n",
      "Total_Population_2020           0.042300  \n",
      "Growth_Percentage               1.000000  \n"
     ]
    }
   ],
   "source": [
    "query = \"\"\"\n",
    "SELECT \n",
    "    property.ZipCode,\n",
    "    (rent.\"2024-10-31\" / property.\"2024-10-31\") * 100 AS Price_to_Rent_Ratio,\n",
    "    population.Total_Population_2020,\n",
    "    population.Growth_Percentage\n",
    "FROM property\n",
    "JOIN rent ON property.ZipCode = rent.ZipCode\n",
    "JOIN population ON property.ZipCode = population.ZipCode;\n",
    "\"\"\"\n",
    "\n",
    "price_rent_population_data = pd.read_sql_query(query, conn)\n",
    "\n",
    "# Calculate correlation\n",
    "correlation = price_rent_population_data[['Price_to_Rent_Ratio', 'Total_Population_2020', 'Growth_Percentage']].corr()\n",
    "\n",
    "# Display the result\n",
    "print(correlation)"
   ]
  },
  {
   "cell_type": "code",
   "execution_count": 30,
   "id": "d1442f9a",
   "metadata": {},
   "outputs": [
    {
     "name": "stdout",
     "output_type": "stream",
     "text": [
      "     ZipCode  Total_Population_2010  Total_Population_2020  Growth_Percentage\n",
      "1778   06353                    162                    175           8.024691\n"
     ]
    }
   ],
   "source": [
    "filtered_data = population_data[\n",
    "    (population_data['Growth_Percentage'] > 0) &\n",
    "    (price_rent_population_data['Price_to_Rent_Ratio'] >= 1.9)\n",
    "]\n",
    "\n",
    "# Display filtered results\n",
    "print(filtered_data)"
   ]
  },
  {
   "cell_type": "markdown",
   "id": "409df719",
   "metadata": {},
   "source": [
    "## Composite Index Creation\n",
    "### Data Normalization\n",
    "Key metrics (e.g., price-to-rent ratio, income, education, employment, population growth, and vacancy rates) are normalized to create a standardized comparison. Metrics like median income and median home price are inverted to align with the composite scoring logic."
   ]
  },
  {
   "cell_type": "code",
   "execution_count": 31,
   "id": "87e3f1d4",
   "metadata": {},
   "outputs": [
    {
     "name": "stdout",
     "output_type": "stream",
     "text": [
      "Price_to_Rent_Ratio            1.000000\n",
      "Median_Income                 -0.565711\n",
      "Percent_Bachelors_Or_Higher   -0.487783\n",
      "Employment_Rate               -0.248864\n",
      "Growth_Percentage             -0.043727\n",
      "Rental_Vacancy_Rate            0.071830\n",
      "Median_Home_Price             -0.596728\n",
      "Name: Price_to_Rent_Ratio, dtype: float64\n"
     ]
    }
   ],
   "source": [
    "# Load data from SQL into a DataFrame\n",
    "query = \"\"\"\n",
    "SELECT \n",
    "    property.ZipCode,\n",
    "    property.City,\n",
    "    property.State,\n",
    "    property.\"2024-10-31\" AS Median_Home_Price,\n",
    "    (rent.\"2024-10-31\" / property.\"2024-10-31\") * 100 AS Price_to_Rent_Ratio,\n",
    "    income.Median_Income,\n",
    "    educational_attainment.Percent_Bachelors_Or_Higher,\n",
    "    employment_rate.Employment_Rate,\n",
    "    population.Growth_Percentage,\n",
    "    homeownership_rate.Rental_Vacancy_Rate\n",
    "FROM property\n",
    "JOIN rent ON property.ZipCode = rent.ZipCode\n",
    "JOIN income ON property.ZipCode = income.ZipCode\n",
    "JOIN educational_attainment ON property.ZipCode = educational_attainment.ZipCode\n",
    "JOIN employment_rate ON property.ZipCode = employment_rate.ZipCode\n",
    "JOIN population ON property.ZipCode = population.ZipCode\n",
    "JOIN homeownership_rate ON property.ZipCode = homeownership_rate.ZipCode;\n",
    "\"\"\"\n",
    "\n",
    "\n",
    "data = pd.read_sql_query(query, conn)\n",
    "\n",
    "columns_to_convert = ['Price_to_Rent_Ratio', 'Median_Income', 'Percent_Bachelors_Or_Higher',\n",
    "                      'Employment_Rate', 'Growth_Percentage', 'Rental_Vacancy_Rate', 'Median_Home_Price']\n",
    "\n",
    "for col in columns_to_convert:\n",
    "    data[col] = pd.to_numeric(data[col], errors='coerce')\n",
    "    \n",
    "correlation_matrix = data[['Price_to_Rent_Ratio', 'Median_Income', \n",
    "                           'Percent_Bachelors_Or_Higher', 'Employment_Rate', \n",
    "                           'Growth_Percentage', 'Rental_Vacancy_Rate', 'Median_Home_Price']].corr()\n",
    "\n",
    "print(correlation_matrix['Price_to_Rent_Ratio'])\n",
    "\n",
    "# Normalize metrics\n",
    "for col in ['Price_to_Rent_Ratio', 'Percent_Bachelors_Or_Higher', 'Employment_Rate', \n",
    "            'Growth_Percentage', 'Rental_Vacancy_Rate']:\n",
    "    data[f'Normalized_{col}'] = (data[col] - data[col].min()) / (data[col].max() - data[col].min())\n",
    "\n",
    "# Add inverted metrics\n",
    "data['Normalized_Median_Income'] = 1 - ((data['Median_Income'] - data['Median_Income'].min()) / \n",
    "                                        (data['Median_Income'].max() - data['Median_Income'].min()))\n",
    "data['Normalized_Median_Home_Price'] = 1 - ((data['Median_Home_Price'] - data['Median_Home_Price'].min()) / \n",
    "                                            (data['Median_Home_Price'].max() - data['Median_Home_Price'].min()))"
   ]
  },
  {
   "cell_type": "markdown",
   "id": "b1ce6e25",
   "metadata": {},
   "source": [
    "### Weighting and Scoring\n",
    "Normalized metrics are assigned weights based on their importance in determining housing market attractiveness. A composite score is calculated for each zip code to rank them."
   ]
  },
  {
   "cell_type": "code",
   "execution_count": 32,
   "id": "9f2da38a",
   "metadata": {},
   "outputs": [],
   "source": [
    "# Weights for the composite score\n",
    "weights = {\n",
    "    'Normalized_Price_to_Rent_Ratio': 0.1,\n",
    "    'Normalized_Median_Home_Price': 0.3,\n",
    "    'Normalized_Median_Income': 0.2,\n",
    "    'Normalized_Percent_Bachelors_Or_Higher': 0.15,\n",
    "    'Normalized_Employment_Rate': 0.1,\n",
    "    'Normalized_Growth_Percentage': 0.1,\n",
    "    'Normalized_Rental_Vacancy_Rate': 0.05\n",
    "}\n",
    "\n",
    "# Calculate the composite score\n",
    "data['Composite_Score'] = sum(data[col] * weight for col, weight in weights.items())"
   ]
  },
  {
   "cell_type": "markdown",
   "id": "69405f9a",
   "metadata": {},
   "source": [
    "### Sorting and Analysis\n",
    "\n",
    "Zip codes are sorted by composite score to identify the most and least attractive housing markets. This final step synthesizes the analysis into actionable insights for decision-making."
   ]
  },
  {
   "cell_type": "code",
   "execution_count": 40,
   "id": "cc58b0ff",
   "metadata": {},
   "outputs": [],
   "source": [
    "# Sort by composite score\n",
    "data = data.sort_values(by='Composite_Score', ascending=False)"
   ]
  },
  {
   "cell_type": "code",
   "execution_count": 41,
   "id": "5a1dbd5d",
   "metadata": {},
   "outputs": [
    {
     "name": "stdout",
     "output_type": "stream",
     "text": [
      "     ZipCode             City State  Composite_Score  Price_to_Rent_Ratio  \\\n",
      "1657   90210    Beverly Hills    CA         0.212749             0.183758   \n",
      "1771   90402     Santa Monica    CA         0.311195             0.219654   \n",
      "1588   90272      Los Angeles    CA         0.327651             0.255104   \n",
      "1655   90265           Malibu    CA         0.337310             0.393960   \n",
      "1694   85253  Paradise Valley    AZ         0.339620             0.073589   \n",
      "753    94010     Hillsborough    CA         0.340612             0.098097   \n",
      "1530   92651     Laguna Beach    CA         0.353903             0.165167   \n",
      "1363   10013         New York    NY         0.354843             0.181220   \n",
      "1384   94306        Palo Alto    CA         0.358953             0.103921   \n",
      "239    95014        Cupertino    CA         0.362342             0.128065   \n",
      "1725   92118         Coronado    CA         0.362631             0.173414   \n",
      "1107   92660    Newport Beach    CA         0.364745             0.143238   \n",
      "1093   90266  Manhattan Beach    CA         0.365012             0.182518   \n",
      "284    94087        Sunnyvale    CA         0.372428             0.126316   \n",
      "736    94025       Menlo Park    CA         0.380725             0.147276   \n",
      "878    95129         San Jose    CA         0.382375             0.131020   \n",
      "1356   95032        Los Gatos    CA         0.386192             0.141592   \n",
      "418    94539          Fremont    CA         0.390426             0.165318   \n",
      "1097   90049      Los Angeles    CA         0.398509             0.133863   \n",
      "1659   92603           Irvine    CA         0.398768             0.174772   \n",
      "\n",
      "      Median_Home_Price  Growth_Percentage  Percent_Bachelors_Or_Higher  \n",
      "1657       4.955094e+06          -2.791960                         68.4  \n",
      "1771       4.159002e+06           0.367347                         79.5  \n",
      "1588       3.391518e+06          -0.596015                         78.9  \n",
      "1655       3.166904e+06         -16.173548                         71.4  \n",
      "1694       2.824908e+06           1.824368                         70.7  \n",
      "753        3.091156e+06           8.120382                         69.2  \n",
      "1530       2.939102e+06           0.900297                         67.5  \n",
      "1363       3.350453e+06          12.064982                         72.0  \n",
      "1384       3.180695e+06           8.273830                         80.5  \n",
      "239        2.908340e+06           3.076568                         83.0  \n",
      "1725       2.384279e+06         -12.496288                         66.0  \n",
      "1107       2.882374e+06           4.201512                         70.3  \n",
      "1093       2.885649e+06           1.055927                         79.0  \n",
      "284        2.666834e+06           7.461367                         76.6  \n",
      "736        2.622425e+06           4.510684                         73.2  \n",
      "878        2.483676e+06           8.003616                         71.0  \n",
      "1356       2.467821e+06          12.037148                         75.9  \n",
      "418        2.177298e+06           7.985049                         78.6  \n",
      "1097       2.801970e+06           4.221859                         80.8  \n",
      "1659       2.146901e+06          -0.232858                         75.0  \n"
     ]
    }
   ],
   "source": [
    "# Display highest ranking zip codes\n",
    "print(data[['ZipCode', 'City', 'State','Composite_Score', 'Price_to_Rent_Ratio', 'Median_Home_Price', 'Growth_Percentage', 'Percent_Bachelors_Or_Higher']].head(20))"
   ]
  },
  {
   "cell_type": "code",
   "execution_count": 42,
   "id": "fb7d6abe",
   "metadata": {},
   "outputs": [
    {
     "name": "stdout",
     "output_type": "stream",
     "text": [
      "     ZipCode             City State  Composite_Score  Price_to_Rent_Ratio  \\\n",
      "1657   90210    Beverly Hills    CA         0.212749             0.183758   \n",
      "1771   90402     Santa Monica    CA         0.311195             0.219654   \n",
      "1588   90272      Los Angeles    CA         0.327651             0.255104   \n",
      "1655   90265           Malibu    CA         0.337310             0.393960   \n",
      "1694   85253  Paradise Valley    AZ         0.339620             0.073589   \n",
      "753    94010     Hillsborough    CA         0.340612             0.098097   \n",
      "1530   92651     Laguna Beach    CA         0.353903             0.165167   \n",
      "1363   10013         New York    NY         0.354843             0.181220   \n",
      "1384   94306        Palo Alto    CA         0.358953             0.103921   \n",
      "239    95014        Cupertino    CA         0.362342             0.128065   \n",
      "1725   92118         Coronado    CA         0.362631             0.173414   \n",
      "1107   92660    Newport Beach    CA         0.364745             0.143238   \n",
      "1093   90266  Manhattan Beach    CA         0.365012             0.182518   \n",
      "284    94087        Sunnyvale    CA         0.372428             0.126316   \n",
      "736    94025       Menlo Park    CA         0.380725             0.147276   \n",
      "878    95129         San Jose    CA         0.382375             0.131020   \n",
      "1356   95032        Los Gatos    CA         0.386192             0.141592   \n",
      "418    94539          Fremont    CA         0.390426             0.165318   \n",
      "1097   90049      Los Angeles    CA         0.398509             0.133863   \n",
      "1659   92603           Irvine    CA         0.398768             0.174772   \n",
      "\n",
      "      Median_Home_Price  Growth_Percentage  Percent_Bachelors_Or_Higher  \n",
      "1657       4.955094e+06          -2.791960                         68.4  \n",
      "1771       4.159002e+06           0.367347                         79.5  \n",
      "1588       3.391518e+06          -0.596015                         78.9  \n",
      "1655       3.166904e+06         -16.173548                         71.4  \n",
      "1694       2.824908e+06           1.824368                         70.7  \n",
      "753        3.091156e+06           8.120382                         69.2  \n",
      "1530       2.939102e+06           0.900297                         67.5  \n",
      "1363       3.350453e+06          12.064982                         72.0  \n",
      "1384       3.180695e+06           8.273830                         80.5  \n",
      "239        2.908340e+06           3.076568                         83.0  \n",
      "1725       2.384279e+06         -12.496288                         66.0  \n",
      "1107       2.882374e+06           4.201512                         70.3  \n",
      "1093       2.885649e+06           1.055927                         79.0  \n",
      "284        2.666834e+06           7.461367                         76.6  \n",
      "736        2.622425e+06           4.510684                         73.2  \n",
      "878        2.483676e+06           8.003616                         71.0  \n",
      "1356       2.467821e+06          12.037148                         75.9  \n",
      "418        2.177298e+06           7.985049                         78.6  \n",
      "1097       2.801970e+06           4.221859                         80.8  \n",
      "1659       2.146901e+06          -0.232858                         75.0  \n"
     ]
    }
   ],
   "source": [
    "# Sort by composite score\n",
    "data = data.sort_values(by='Composite_Score', ascending=True)\n",
    "\n",
    "# Display lowest ranking zip codes\n",
    "print(data[['ZipCode', 'City', 'State','Composite_Score', 'Price_to_Rent_Ratio', 'Median_Home_Price', 'Growth_Percentage', 'Percent_Bachelors_Or_Higher']].head(20))"
   ]
  },
  {
   "cell_type": "markdown",
   "id": "383f526e",
   "metadata": {},
   "source": [
    "## Conclusion & Findings\n",
    "The analysis reveals several key insights about the U.S. real estate market, focusing on areas of high rental investment potential and the factors influencing price-to-rent ratios. The count of zip codes meeting the \"1% rule\" indicates that Pennsylvania emerges as a strong contender with the highest number of qualifying zip codes (7), followed by Maryland and New York (3 each), and Florida and Ohio (2 each). These findings highlight Pennsylvania's prominence as a favorable state for rental investment opportunities.\n",
    "\n",
    "The correlation analysis provides deeper insights into the factors affecting price-to-rent ratios. A moderately negative correlation between price-to-rent ratios and median income (-0.57) suggests that areas with lower incomes often have relatively higher rent compared to property prices, making them attractive for rental investments. Similarly, a weaker negative correlation with educational attainment (-0.49) implies that areas with higher educational levels tend to have lower price-to-rent ratios, potentially reflecting more stable and affluent housing markets.\n",
    "\n",
    "Employment metrics show weaker correlations, with the employment rate negatively correlated (-0.25) and the unemployment rate slightly positively correlated (0.23) with price-to-rent ratios. These suggest that areas with stronger job markets may have less favorable rent-to-property-price ratios for investors, possibly due to higher property values.\n",
    "\n",
    "Demographic factors such as median age (-0.15) and population growth (-0.04) show minimal impact on price-to-rent ratios, indicating that other variables may play more critical roles in determining rental investment attractiveness. Vacancy rates show weak correlations, with homeowner vacancy rates (0.13) and rental vacancy rates (0.07) having limited influence on price-to-rent ratios.\n",
    "\n",
    "The composite scoring approach further refines the analysis by integrating multiple metrics such as price-to-rent ratios, median income, employment rate, educational attainment, and population growth. High-ranking zip codes, such as those in Houston, Minneapolis, and Washington, D.C., demonstrate strong rental investment potential with balanced scores across these factors. On the other hand, lower-ranking zip codes, including Beverly Hills and Santa Monica, exhibit low price-to-rent ratios, high property prices, and limited growth potential, making them less attractive for rental investments despite their affluent profiles.\n",
    "\n",
    "In conclusion, the analysis identifies Pennsylvania as a leading state for rental investment opportunities based on the \"1% rule,\" while demographic, economic, and market factors provide additional context for assessing market attractiveness. The composite scoring system provides a comprehensive framework for evaluating zip codes, empowering investors to make informed decisions about where to allocate their resources."
   ]
  },
  {
   "cell_type": "code",
   "execution_count": null,
   "id": "d31b8d4f",
   "metadata": {},
   "outputs": [],
   "source": []
  }
 ],
 "metadata": {
  "kernelspec": {
   "display_name": "Python 3",
   "language": "python",
   "name": "python3"
  },
  "language_info": {
   "codemirror_mode": {
    "name": "ipython",
    "version": 3
   },
   "file_extension": ".py",
   "mimetype": "text/x-python",
   "name": "python",
   "nbconvert_exporter": "python",
   "pygments_lexer": "ipython3",
   "version": "3.8.8"
  }
 },
 "nbformat": 4,
 "nbformat_minor": 5
}
